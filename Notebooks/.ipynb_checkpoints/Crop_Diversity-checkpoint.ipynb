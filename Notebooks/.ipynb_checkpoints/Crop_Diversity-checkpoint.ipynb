{
 "cells": [
  {
   "cell_type": "code",
   "execution_count": 1,
   "metadata": {
    "collapsed": false,
    "deletable": true,
    "editable": true
   },
   "outputs": [
    {
     "data": {
      "text/html": [
       "<script>\n",
       "code_show=true; \n",
       "function code_toggle() {\n",
       " if (code_show){\n",
       " $('div.input').hide();\n",
       " } else {\n",
       " $('div.input').show();\n",
       " }\n",
       " code_show = !code_show\n",
       "} \n",
       "$( document ).ready(code_toggle);\n",
       "</script>"
      ],
      "text/plain": [
       "<IPython.core.display.HTML object>"
      ]
     },
     "execution_count": 1,
     "metadata": {},
     "output_type": "execute_result"
    }
   ],
   "source": [
    "from IPython.display import HTML\n",
    "HTML('''<script>\n",
    "code_show=true; \n",
    "function code_toggle() {\n",
    " if (code_show){\n",
    " $('div.input').hide();\n",
    " } else {\n",
    " $('div.input').show();\n",
    " }\n",
    " code_show = !code_show\n",
    "} \n",
    "$( document ).ready(code_toggle);\n",
    "</script>''')"
   ]
  },
  {
   "cell_type": "code",
   "execution_count": 2,
   "metadata": {
    "collapsed": false,
    "deletable": true,
    "editable": true
   },
   "outputs": [
    {
     "data": {
      "text/html": [
       "\n",
       "<style>\n",
       "    .yourDiv {position: fixed;top: 100px; right: 0px; \n",
       "              background: white;\n",
       "              height: 100%;\n",
       "              width: 175px; \n",
       "              padding: 10px; \n",
       "              z-index: 10000}\n",
       "</style>\n",
       "<script>\n",
       "function showthis(url) {\n",
       "\twindow.open(url, \"pres\", \n",
       "                \"toolbar=yes,scrollbars=yes,resizable=yes,top=10,left=400,width=500,height=500\");\n",
       "\treturn(false);\n",
       "}\n",
       "</script>\n",
       "\n",
       "<div class=yourDiv>\n",
       "    <h4>MENU</h4><br>\n",
       "    <a href=#Species_Richness>1. Species Richness</a><br>\n",
       "    <a href=#Simpsons_Diversity>2. Simpson's Diversity</a><br>\n",
       "    <a href=#Shannons_Diversity>3. Shannon's Diversity</a><br>\n",
       "    <a href=#Evenness>4. Evenness</a><br><br>\n",
       "\n",
       "    <a href=#Top>Top</a><br>\n",
       "    <a href=\"javascript:code_toggle()\">Toggle Code On/Off</a><br>\n",
       "    <a href=#LeftOff>Left Off Here</a><br>\n",
       "    \n",
       "    <h4>PROJECT NOTEBOOKS</h4><br>\n",
       "    <a href='https://vinnyricciardi.github.io/farmsize_site/Html/Project_Overview'>Project Overview</a><br>\n",
       "    <a href='https://vinnyricciardi.github.io/farmsize_site/Html/Data_Coverage'>Data Coverage</a><br>\n",
       "    <a href='https://vinnyricciardi.github.io/farmsize_site/Html/General_Results'>General Results</a><br>\n",
       "    <a href='https://vinnyricciardi.github.io/farmsize_site/Html/Global_Estimate'>Global Estimates</a><br>\n",
       "    <a href='https://vinnyricciardi.github.io/farmsize_site/Html/Crop_Diversity'>Crop Diversity</a><br>\n",
       "    <a href='https://vinnyricciardi.github.io/farmsize_site/Html/Sensitivity_Analyses'>Sensitivity Analyses</a><br>\n",
       "    <a href='https://vinnyricciardi.github.io/farmsize_site/'>Site Index</a><br>\n",
       "</div>\n"
      ],
      "text/plain": [
       "<IPython.core.display.HTML object>"
      ]
     },
     "execution_count": 2,
     "metadata": {},
     "output_type": "execute_result"
    }
   ],
   "source": [
    "HTML('''\n",
    "<style>\n",
    "    .yourDiv {position: fixed;top: 100px; right: 0px; \n",
    "              background: white;\n",
    "              height: 100%;\n",
    "              width: 175px; \n",
    "              padding: 10px; \n",
    "              z-index: 10000}\n",
    "</style>\n",
    "<script>\n",
    "function showthis(url) {\n",
    "\twindow.open(url, \"pres\", \n",
    "                \"toolbar=yes,scrollbars=yes,resizable=yes,top=10,left=400,width=500,height=500\");\n",
    "\treturn(false);\n",
    "}\n",
    "</script>\n",
    "\n",
    "<div class=yourDiv>\n",
    "    <h4>MENU</h4><br>\n",
    "    <a href=#Species_Richness>1. Species Richness</a><br>\n",
    "    <a href=#Simpsons_Diversity>2. Simpson's Diversity</a><br>\n",
    "    <a href=#Shannons_Diversity>3. Shannon's Diversity</a><br>\n",
    "    <a href=#Evenness>4. Evenness</a><br><br>\n",
    "\n",
    "    <a href=#Top>Top</a><br>\n",
    "    <a href=\"javascript:code_toggle()\">Toggle Code On/Off</a><br>\n",
    "    <a href=#LeftOff>Left Off Here</a><br>\n",
    "    \n",
    "    <h4>PROJECT NOTEBOOKS</h4><br>\n",
    "    <a href='https://vinnyricciardi.github.io/farmsize_site/Html/Project_Overview'>Project Overview</a><br>\n",
    "    <a href='https://vinnyricciardi.github.io/farmsize_site/Html/Data_Coverage'>Data Coverage</a><br>\n",
    "    <a href='https://vinnyricciardi.github.io/farmsize_site/Html/General_Results'>General Results</a><br>\n",
    "    <a href='https://vinnyricciardi.github.io/farmsize_site/Html/Global_Estimate'>Global Estimates</a><br>\n",
    "    <a href='https://vinnyricciardi.github.io/farmsize_site/Html/Crop_Diversity'>Crop Diversity</a><br>\n",
    "    <a href='https://vinnyricciardi.github.io/farmsize_site/Html/Sensitivity_Analyses'>Sensitivity Analyses</a><br>\n",
    "    <a href='https://vinnyricciardi.github.io/farmsize_site/'>Site Index</a><br>\n",
    "</div>\n",
    "''')"
   ]
  },
  {
   "cell_type": "markdown",
   "metadata": {
    "deletable": true,
    "editable": true
   },
   "source": [
    "<a name=\"Top\"></a>\n",
    "<center><h1>Crop Diversity by Farm Size</h1>\n"
   ]
  },
  {
   "cell_type": "markdown",
   "metadata": {
    "deletable": true,
    "editable": true
   },
   "source": [
    "This section explores the relationship between farm size and crop diversity in our dataset. The hypothesis tested is that smaller farms have greater crop diversity, while larger farms specialize in a smaller number of crop species. Since our dataset is at the species level, a major caveat to these findings is that varietal diversity cannot be examined."
   ]
  },
  {
   "cell_type": "code",
   "execution_count": 3,
   "metadata": {
    "collapsed": true,
    "deletable": true,
    "editable": true
   },
   "outputs": [],
   "source": [
    "import warnings\n",
    "warnings.filterwarnings('ignore')\n",
    "import subprocess\n",
    "import seaborn as sns\n",
    "import pandas as pd\n",
    "import numpy as np\n",
    "import matplotlib.pyplot as plt\n",
    "from matplotlib import cm\n",
    "import matplotlib.gridspec as gridspec\n",
    "from matplotlib import colors\n",
    "import copy\n",
    "from collections import OrderedDict\n",
    "from pivottablejs import pivot_ui  # may have to use: python setup.py install --user\n",
    "import scipy.stats as st\n",
    "import statsmodels.stats.api as sms\n",
    "from scipy.stats import linregress\n",
    "import matplotlib.patches as patches\n",
    "from sklearn import linear_model\n",
    "# import statsmodels.api as sm\n",
    "import statsmodels.formula.api as smf\n",
    "import math\n",
    "import itertools\n",
    "\n",
    "plt.style.use('seaborn-muted')\n",
    "pd.set_option('display.max_columns', 500)\n",
    "pd.set_option('display.max_rows', 500)\n",
    "\n",
    "%matplotlib inline"
   ]
  },
  {
   "cell_type": "code",
   "execution_count": 4,
   "metadata": {
    "collapsed": false,
    "deletable": true,
    "editable": true
   },
   "outputs": [],
   "source": [
    "def read_data_init(path):\n",
    "    \n",
    "    data = pd.read_csv(path, low_memory=False)\n",
    "    data['Farm_Sizes'] = pd.cut(data['fs_class_max'],\n",
    "                                bins=[0, 1, 2, 5, 10, 20, 50,\n",
    "                                      100, 200, 500, 1000, 100000])\n",
    "    \n",
    "    data = data.replace(0.0, np.nan)  # there were many zero values\n",
    "    \n",
    "    return data\n",
    "\n",
    "PATH = '/Users/Vinny_Ricciardi/Documents/Data_Library_Big/Survey/Global/Farm_Size/Data/FarmSize_data_fullyProcessed.csv'\n",
    "data_orig = read_data_init(PATH)\n",
    "data_orig['production_kcal'] = data_orig['Production_fix'] * data_orig['kcal']\n",
    "data_orig['Item_Code_ix'] = data_orig['Item_Code'].copy()"
   ]
  },
  {
   "cell_type": "code",
   "execution_count": 5,
   "metadata": {
    "collapsed": false,
    "deletable": true,
    "editable": true
   },
   "outputs": [],
   "source": [
    "t = pd.pivot_table(data_orig, index=['Farm_Sizes'], values='NAME_0', aggfunc='count').reset_index()\n",
    "t['perc'] = 100* t['NAME_0'] / t['NAME_0'].sum()\n",
    "large_obs = round(t.iloc[-1, -1], 2)"
   ]
  },
  {
   "cell_type": "markdown",
   "metadata": {
    "deletable": true,
    "editable": true,
    "variables": {
     "large_obs": "0.2"
    }
   },
   "source": [
    "<a name=\"Species_Richness\"></a>\n",
    "<left><h3>Species Richness</h3></left><br>\n",
    "\n",
    "First, we calculate species richness: the number of species (regardless of frequencies) each farm size class produced. Species richness shows no statisitcal differences between farm size classes, but there is a general decline in richness as farms increase in size. Note, the 95% confidence intervals were derived from country level estimates. Only the largest farm size class shows large differences from the other groups. This large farm size group should be interepretted with caution, as it has few observations ({{large_obs}}% of total observations)."
   ]
  },
  {
   "cell_type": "code",
   "execution_count": 6,
   "metadata": {
    "collapsed": false,
    "deletable": true,
    "editable": true
   },
   "outputs": [
    {
     "data": {
      "image/png": "[encoded data removed]",
      "text/plain": [
       "<matplotlib.figure.Figure at 0x10a3e2b90>"
      ]
     },
     "metadata": {},
     "output_type": "display_data"
    }
   ],
   "source": [
    "richness = pd.pivot_table(data_orig, \n",
    "                          index=['Farm_Sizes', 'NAME_0'],\n",
    "                          values='Item_Code',\n",
    "                          aggfunc=lambda x: len(x.unique()))\n",
    "richness = richness.reset_index()\n",
    "richness = richness.sort_values('Item_Code', ascending=False)\n",
    "\n",
    "order = pd.pivot_table(data_orig, \n",
    "                          index=['Farm_Sizes'],\n",
    "                          values='Item_Code',\n",
    "                          aggfunc=lambda x: len(x.unique()))\n",
    "order = order.reset_index()\n",
    "order = order.sort_values('Farm_Sizes', ascending=True)\n",
    "\n",
    "fs = order['Farm_Sizes'].unique()\n",
    "\n",
    "fig = plt.figure(figsize=[10, 3])\n",
    "ax = fig.add_subplot(111)\n",
    "sns.barplot(richness['Farm_Sizes'].astype(str), \n",
    "            richness['Item_Code'], \n",
    "            color='grey', \n",
    "            order=list(order['Farm_Sizes']), \n",
    "            estimator=np.sum,\n",
    "            ax=ax);\n",
    "ax.set_xticklabels([x[1:-1] for x in fs], rotation=45);\n",
    "ax.set_xlabel('Farm Sizes (ha)');\n",
    "ax.set_ylabel('Species Richness');\n",
    "ax.set_title('Species Richness \\n', fontsize=16);"
   ]
  },
  {
   "cell_type": "markdown",
   "metadata": {
    "deletable": true,
    "editable": true
   },
   "source": [
    "<a name=\"Simpsons_Diversity\"></a>\n",
    "<left><h3>Simpson's Diversity</h3></left><br>\n",
    "\n",
    "The Simpson's Diversity Index is a way to measure the richness and abundance of species diversity. Here, we use Simpson's Index to understand which farm size groups have the most species diversity. The index is calculated first by dividing the number of organisms of a particular species (number of plants per crop) by the number of organisms total. Then the sum of this ratio is taken across all species and squared. Finally, the inverse is taken. The higher the score, the more diverse. One advantage with Simpson's Index is that it is not affected by low abundant crops. Hence, if one farm size class has high richness, but many of the crops are only grown on a few farms, then Simpson's Index is minimally effected. Note, because we do not have actual counts of the number of plants per species we use production (converted to kcal) as a proxy. \n",
    "\n",
    "\\begin{equation*}\n",
    "D = 1 - \\sum_{i=1}^s p_i^2\n",
    "\\end{equation*}\n",
    "\n",
    "Where,<br>\n",
    "&nbsp;&nbsp;&nbsp;&nbsp; i = a particular farm size class<br>\n",
    "&nbsp;&nbsp;&nbsp;&nbsp; n = the total number of organisims of a  particular species, and<br>\n",
    "&nbsp;&nbsp;&nbsp;&nbsp; N = the total number of organisims of all species<br><br>\n",
    "&nbsp;&nbsp;&nbsp;&nbsp; p = n/N"
   ]
  },
  {
   "cell_type": "code",
   "execution_count": 7,
   "metadata": {
    "code_folding": [
     69
    ],
    "collapsed": false,
    "deletable": true,
    "editable": true
   },
   "outputs": [],
   "source": [
    "def diversity_indices(data, variable='production_kcal'):\n",
    "\n",
    "    if variable is 'production_kcal':\n",
    "\n",
    "        pivot = pd.pivot_table(data,\n",
    "                               index=['Farm_Sizes', 'NAME_0', 'Item_Code_ix'],  # 'NAME_0',\n",
    "                               values=variable,\n",
    "                               aggfunc=np.nansum)\n",
    "        \n",
    "        pivot2 = pd.pivot_table(data,\n",
    "                               index=['Farm_Sizes', 'NAME_0'],  # NAME_0\n",
    "                               values=variable,\n",
    "                               aggfunc=np.nansum)\n",
    "        \n",
    "    elif variable is 'Item_Code':\n",
    "        \n",
    "        pivot = pd.pivot_table(data,\n",
    "                               index=['Farm_Sizes', 'NAME_0', 'Item_Code_ix'],  # NAME_0\n",
    "                               values=variable,\n",
    "                               aggfunc=np.count_nonzero)\n",
    "\n",
    "        pivot2 = pd.pivot_table(data,\n",
    "                               index=['Farm_Sizes', 'NAME_0'], # NAME_0\n",
    "                               values=variable,\n",
    "                               aggfunc=np.count_nonzero)\n",
    "\n",
    "    pivot = pivot.reset_index()\n",
    "    pivot2 = pivot2.reset_index()\n",
    "    pivot = pd.merge(pivot, pivot2, on=['Farm_Sizes', 'NAME_0'], how='outer')  # NAME_0\n",
    "    pivot = pivot.reset_index()\n",
    "    pivot['p'] = pivot[variable + '_x'] / pivot[variable + '_y']\n",
    "    \n",
    "    H = -1 * np.nansum(pivot['p'] * np.log(pivot['p']))\n",
    "    D = 1 - (np.nansum(pivot['p']**2))\n",
    "        \n",
    "    return D, H\n",
    "\n",
    "def diversity_entire(data, variable='production_kcal', metric='simpsons'):\n",
    "\n",
    "    farms = []\n",
    "    names = []\n",
    "    ds = []\n",
    "\n",
    "    for farm in data.loc[~data['Farm_Sizes'].isnull()]['Farm_Sizes'].unique():\n",
    "\n",
    "        tmp = data.loc[data['Farm_Sizes'] == farm]\n",
    "\n",
    "        for name in tmp['NAME_0'].unique():\n",
    "\n",
    "            tmp2 = tmp.loc[tmp['NAME_0'] == name]\n",
    "\n",
    "            d, h = diversity_indices(tmp2, variable=variable)\n",
    "\n",
    "            farms.append(farm)\n",
    "            names.append(name)\n",
    "            \n",
    "            if metric is 'simpsons':\n",
    "                ds.append(d)\n",
    "\n",
    "            elif metric is 'shannons':\n",
    "                ds.append(h)\n",
    "                \n",
    "    out = pd.concat([pd.DataFrame(farms, columns=['Farm_Sizes']),\n",
    "                     pd.DataFrame(names, columns=['NAME_0']),\n",
    "                     pd.DataFrame(ds, columns=['ds'])],\n",
    "                    axis=1)\n",
    "\n",
    "    return out\n",
    "\n",
    "def plot_diversity(data, title1=\"Species Diversity \\n Simpson's Index\"):\n",
    "\n",
    "    fs_order = list(data_orig.sort_values('Farm_Sizes')['Farm_Sizes'].unique())[1:]\n",
    "\n",
    "    fig = plt.figure(figsize=[15, 5])\n",
    "    ax = fig.add_subplot(111)\n",
    "\n",
    "    sns.barplot(x='Farm_Sizes', \n",
    "                y='ds',\n",
    "                data=data,\n",
    "                color='grey', \n",
    "                order=fs_order, \n",
    "                ax=ax);\n",
    "    ax.set_xticklabels([x[1:-1] for x in fs_order], rotation=45);\n",
    "    ax.set_xlabel('Farm Sizes (ha)');\n",
    "    ax.set_ylabel('Species Diversity');\n",
    "    ax.set_title(title1, fontsize=16);\n",
    "\n",
    "    fig.tight_layout()\n",
    "    \n",
    "    return plt.show()"
   ]
  },
  {
   "cell_type": "code",
   "execution_count": 8,
   "metadata": {
    "code_folding": [
     0
    ],
    "collapsed": false,
    "deletable": true,
    "editable": true
   },
   "outputs": [
    {
     "data": {
      "image/png": "[encoded data removed]",
      "text/plain": [
       "<matplotlib.figure.Figure at 0x10ee8c490>"
      ]
     },
     "metadata": {},
     "output_type": "display_data"
    }
   ],
   "source": [
    "d_prod = diversity_entire(data_orig, variable='production_kcal', metric='simpsons')\n",
    "plot_diversity(d_prod)"
   ]
  },
  {
   "cell_type": "markdown",
   "metadata": {
    "deletable": true,
    "editable": true
   },
   "source": [
    "Visually, there apears to be significant differences between the largest three farm size classes and the remaining classes except for the smallest farm size class."
   ]
  },
  {
   "cell_type": "markdown",
   "metadata": {
    "deletable": true,
    "editable": true
   },
   "source": [
    "<a name=\"Shannons_Diversity\"></a>\n",
    "<left><h3>Shannon's Diversity</h3></left><br>\n",
    "\n",
    "Since Simpson's Index tends to give more weight to dominant species, we will also calulate diversity with Shannon's Diversity Index. Shannon's Index is more affected by species richness than Simpson's Index and hence will indicate if a certain farm size class may have more overall crop diversity.\n",
    "\n",
    "\\begin{equation*}\n",
    "H = \\ -\\sum_{i=1}^s \\ p_i \\ ln \\ p_i\n",
    "\\end{equation*}\n",
    "\n",
    "Where,<br>\n",
    "&nbsp;&nbsp;&nbsp;&nbsp; i = crop<br>\n",
    "&nbsp;&nbsp;&nbsp;&nbsp; s = number of species<br>\n",
    "&nbsp;&nbsp;&nbsp;&nbsp; p = proportion of individuals (n) divided by the total number of individuals (N)<br>\n",
    "&nbsp;&nbsp;&nbsp;&nbsp; s = number of species<br><br>\n",
    "\n",
    "We use the same modification as for the Simpson's index to weight the results by production.\n"
   ]
  },
  {
   "cell_type": "code",
   "execution_count": 9,
   "metadata": {
    "collapsed": false,
    "deletable": true,
    "editable": true
   },
   "outputs": [
    {
     "data": {
      "image/png": "[encoded data removed]",
      "text/plain": [
       "<matplotlib.figure.Figure at 0x110607390>"
      ]
     },
     "metadata": {},
     "output_type": "display_data"
    }
   ],
   "source": [
    "h_prod = diversity_entire(data_orig, variable='production_kcal', metric='shannons')\n",
    "plot_diversity(h_prod, title1=\"Species Diversity \\n Shannon's Index\")"
   ]
  },
  {
   "cell_type": "markdown",
   "metadata": {
    "deletable": true,
    "editable": true
   },
   "source": [
    "The largest farm size class has more diversity than the other classes, while the second and third largest have the lowest crop diversity. These results are very different than the Simpson's Index, which may indicate that there are different crops being grown in the largest farm size class. Note, the largest farm size class should be interpretted with caution, since this class has farm fewer observations that may have led to a very low richness score; species richness affects both diversity indices."
   ]
  },
  {
   "cell_type": "markdown",
   "metadata": {
    "collapsed": true,
    "deletable": true,
    "editable": true
   },
   "source": [
    "<a name=\"Evenness\"></a>\n",
    "<left><h3>Evenness</h3></left><br>\n",
    "\n",
    "To further investigate the large differences between the Simpson and Shannon's indices we will first look at the distribution of crop prevelance in each farm size group. The assumption is that since the Simpson's Index minimizes crops that are not prevelent, the distribution (i.e., species evenness) of crops may explain the difference between the two diversity indices. While the richness metric counts how many crop species each farm size produces, evenness is the abundance (or distribution) of those species. Evenness can be calculated from the Shannon's Diversity index by dividing H by the natural log of species richness."
   ]
  },
  {
   "cell_type": "code",
   "execution_count": 10,
   "metadata": {
    "collapsed": false,
    "deletable": true,
    "editable": true
   },
   "outputs": [
    {
     "data": {
      "image/png": "[encoded data removed]",
      "text/plain": [
       "<matplotlib.figure.Figure at 0x10f387d10>"
      ]
     },
     "metadata": {},
     "output_type": "display_data"
    }
   ],
   "source": [
    "richness.columns = ['Farm_Sizes', 'NAME_0', 'Richness']\n",
    "merged = pd.merge(richness, h_prod, on=['Farm_Sizes', 'NAME_0'], how='outer')\n",
    "merged['ds'] = merged['ds'] / np.log(merged['Richness'])\n",
    "\n",
    "plot_diversity(merged, title1=\"Species Evenness \\n\")"
   ]
  },
  {
   "cell_type": "markdown",
   "metadata": {
    "deletable": true,
    "editable": true
   },
   "source": [
    "For the reasons stated above, for now we will ignore the largest farm size class. The evenness results may explain why the smallest farm size and the second and third largest farm size classes received large Simpson but small Shannon indices. These classes may have more diversity of common species (Simpsons Index), but less diversity of total species (Shannons Index). In other words, these identified farm sizes may be producing different species from the rest of the farm sizes."
   ]
  },
  {
   "cell_type": "markdown",
   "metadata": {
    "collapsed": true,
    "deletable": true,
    "editable": true
   },
   "source": [
    "<a name=\"Sorensons_Coefficient\"></a>\n",
    "<left><h3>Sorenson's Coefficient</h3></left><br>\n",
    "\n",
    "To test whether the crop composition is different between farm size classes, we will use the Sorenson's Coefficient (CC). Sorenson's Coefficient is a ratio of the number of overlapping species between two communities (farm size classes) and the total number of species across two communities.\n",
    "\n",
    "\\begin{equation*}\n",
    "CC_{i,j} = \\frac{2C_{i,j}}{S_i + S_j}\n",
    "\\end{equation*}\n",
    "\n",
    "Where,<br>\n",
    "C = the number of species the two classes have in common<br>\n",
    "S = the total number of species found in the given farm size class<br>\n",
    "i = farm size class 1<br>\n",
    "j = farm size class 2<br><br>\n",
    "\n",
    "Note: This calculation will be done for each i,j combination (i.e., all combinations of farm sizes will be compared)"
   ]
  },
  {
   "cell_type": "code",
   "execution_count": 11,
   "metadata": {
    "collapsed": false,
    "deletable": true,
    "editable": true
   },
   "outputs": [],
   "source": [
    "tmp = data_orig.copy()\n",
    "tmp['Farm_Sizes'] = tmp['Farm_Sizes'].astype(str)\n",
    "\n",
    "sorensons = pd.pivot_table(tmp, \n",
    "                           index=['NAME_0', 'Item_Code_ix'],\n",
    "                           values='Item_Code',\n",
    "                           columns='Farm_Sizes',\n",
    "                           aggfunc=lambda x: float(len(x.unique())))\n",
    "sorensons = sorensons.iloc[:, : -1]\n",
    "\n",
    "cols = sorensons.columns\n",
    "combos = list(itertools.combinations(cols, 2))\n",
    "Sn = pd.pivot_table(sorensons.reset_index(), index='NAME_0', aggfunc=np.nansum).iloc[:, :-1]\n",
    "\n",
    "for i in xrange(len(combos)):\n",
    "    sorensons['C_' + combos[i][0] + '_' + combos[i][1]] = np.where(((sorensons[combos[i][0]] > 0. ) &\n",
    "                                                                     (sorensons[combos[i][1]] > 0. )), 1.0, np.nan)\n",
    "    Sn['Sn_' +  combos[i][0] + '_' + combos[i][1]] = Sn[combos[i][0]] + Sn[combos[i][1]]\n",
    "\n",
    "Sn = Sn.filter(regex='Sn_.*')\n",
    "C = sorensons.filter(regex=('C_.*'))\n",
    "C = pd.pivot_table(C.reset_index(), index='NAME_0', aggfunc=np.nansum).iloc[:, :-1]\n",
    "CC = pd.DataFrame(2 * C.as_matrix() / Sn.as_matrix(), columns=C.columns, index=C.index).head()"
   ]
  },
  {
   "cell_type": "code",
   "execution_count": 12,
   "metadata": {
    "collapsed": false,
    "deletable": true,
    "editable": true
   },
   "outputs": [],
   "source": [
    "t = CC.copy()\n",
    "t = t.transpose().reset_index()\n",
    "combos = t['Farm_Sizes'].str.split('_', expand=True)\n",
    "combos.columns = ['C', 'Combo1', 'Combo2']\n",
    "\n",
    "t = pd.concat([t, combos], axis=1)\n",
    "\n",
    "for col in list(combos.columns[1:]):\n",
    "    t[col] = t[col].str.replace('(', '')\n",
    "    t[col] = t[col].str.replace(']', '')\n",
    "    \n",
    "t = t.sort_values(['Combo1', 'Combo2'])\n",
    "t = t.set_index(['Combo1', 'Combo2'])\n",
    "t = t.drop(['Farm_Sizes', 'C'], 1)\n",
    "t = pd.DataFrame(t.mean(axis=1), columns=['CC']).reset_index()\n",
    "tr = t.loc[:, ['Combo2', 'Combo1', 'CC']]\n",
    "tr.columns = t.columns\n",
    "t = pd.concat([t, tr], axis=0)\n",
    "fs_order = [u'0, 1', u'1, 2', u'2, 5', u'5, 10', u'10, 20', \n",
    "            u'20, 50', u'50, 100', u'100, 200', u'200, 500', \n",
    "            u'500, 1000', u'1000, 100000']\n",
    "\n",
    "sorterIndex = dict(zip(fs_order,range(len(fs_order))))\n",
    "t['Combo1_ix'] = t['Combo1'].map(sorterIndex)\n",
    "t['Combo2_ix'] = t['Combo2'].map(sorterIndex)\n",
    "t = t.sort_values(['Combo1_ix', 'Combo2_ix'])\n",
    "t = t.iloc[:, 2:]\n",
    "t = t.set_index(['Combo1_ix', 'Combo2_ix'])\n",
    "t = pd.DataFrame(t.unstack())"
   ]
  },
  {
   "cell_type": "code",
   "execution_count": 13,
   "metadata": {
    "collapsed": false,
    "deletable": true,
    "editable": true
   },
   "outputs": [
    {
     "data": {
      "image/png": "[encoded data removed]",
      "text/plain": [
       "<matplotlib.figure.Figure at 0x110686b50>"
      ]
     },
     "metadata": {},
     "output_type": "display_data"
    }
   ],
   "source": [
    "fig = plt.figure(figsize=[10,5])\n",
    "ax = fig.add_subplot(111)\n",
    "sns.heatmap(t.iloc[:-1,:-1], cmap='PuOr' , ax=ax);\n",
    "ax.set_xlabel('');\n",
    "ax.set_ylabel('');\n",
    "fs_order_n = fs_order[:-1]\n",
    "ax.set_xticklabels(fs_order_n, rotation=45);\n",
    "ax.set_yticklabels(fs_order_n[::-1], rotation=0);\n",
    "ax.set_title(\"Sorenson's coefficient relating farmsizes\\n\", fontsize=16);"
   ]
  },
  {
   "cell_type": "markdown",
   "metadata": {
    "deletable": true,
    "editable": true
   },
   "source": [
    "The Sorenson's coefficient is plotted above. Higher (dark purple) values represent greater overlap in the crops the given farm size class pair produce, while darker brown values represent low overlap. For example, the 0 to 1 ha and 1 to 2 ha classes produce a large amount of the same crops, while the 0 to 1 ha and 500 to 1000 ha produce dissimilar crops."
   ]
  },
  {
   "cell_type": "markdown",
   "metadata": {
    "deletable": true,
    "editable": true
   },
   "source": [
    "<a name=\"Dietary_Impacts\"></a>\n",
    "<left><h3>Dietary Impacts</h3></left><br>\n",
    "\n",
    "Finally, we will look at the fat and protein content (and other micronutrients if possible?) of the crops each farm size class grows. Since the smaller farmsize classes showed greater similarity to one another in crops grown, and disimilarity with larger farms, we want to know if the food produced on smaller farms is providing a different set of nutrients. \n",
    "\n",
    "Due to data limitations, we were only able to calculate kcal, fat, and protein for each crop grown. The conversion factors used were from the FAO food balance sheets.\n",
    "\n",
    "Here we show the average kcal, fat, and protein per crop per farm size group. Note, we first seperated the data by the amount of food each farm size produced, then calculated the amount of kcal, fat, and protein in the available food as explained in the [General Results Notebook](https://vinnyricciardi.github.io/farmsize_site/Html/General_Results)."
   ]
  },
  {
   "cell_type": "code",
   "execution_count": 14,
   "metadata": {
    "collapsed": false,
    "deletable": true,
    "editable": true
   },
   "outputs": [],
   "source": [
    "nutrients = data_orig.loc[:, ['Farm_Sizes', \n",
    "#                               'production_Food_kcal', \n",
    "                              'production_Food_fat', \n",
    "                              'production_Food_protein']]\n",
    "\n",
    "\n",
    "grouped = nutrients.groupby('Farm_Sizes').agg(np.nansum)\n",
    "grouped['total'] = grouped.sum(axis=1)\n",
    "\n",
    "for col in grouped.columns:\n",
    "    grouped[col] = grouped[col] / grouped['total']\n",
    "\n",
    "grouped = grouped.iloc[:, : -1]"
   ]
  },
  {
   "cell_type": "code",
   "execution_count": 15,
   "metadata": {
    "collapsed": false,
    "deletable": true,
    "editable": true
   },
   "outputs": [],
   "source": [
    "nutrients = data_orig.loc[:, ['Farm_Sizes',\n",
    "                              'NAME_0',\n",
    "                              'production_Food_kcal', \n",
    "                              'production_Food_fat', \n",
    "                              'production_Food_protein']]\n",
    "\n",
    "grouped = nutrients.groupby(['Farm_Sizes', 'NAME_0']).agg(np.nansum)\n",
    "grouped = grouped.iloc[:, :].reset_index()\n",
    "grouped = grouped.loc[(grouped['production_Food_kcal'] > 0.0) &\n",
    "                     (grouped['production_Food_fat'] > 0.0) &\n",
    "                     (grouped['production_Food_protein'] > 0.0)]\n",
    "\n",
    "for col in grouped.columns[2:]:\n",
    "    grouped[col] = np.log(grouped[col])\n",
    "    \n",
    "# grouped = pd.melt(grouped, id_vars=['Farm_Sizes'])\n",
    "# grouped.head()\n",
    "# grouped = grouped.loc[grouped['value'] > 0.0]\n",
    "# grouped['value'] = np.log(grouped['value'])\n",
    "# grouped = grouped.sort_values(['variable', 'value'])"
   ]
  },
  {
   "cell_type": "code",
   "execution_count": 16,
   "metadata": {
    "collapsed": false,
    "deletable": true,
    "editable": true
   },
   "outputs": [
    {
     "data": {
      "image/png": "[encoded data removed]",
      "text/plain": [
       "<matplotlib.figure.Figure at 0x10f35ff50>"
      ]
     },
     "metadata": {},
     "output_type": "display_data"
    }
   ],
   "source": [
    "fig = plt.figure(figsize=[10, 5])\n",
    "ax = fig.add_subplot(111)\n",
    "\n",
    "from collections import OrderedDict\n",
    "import matplotlib as mpl\n",
    "plots = OrderedDict([('production_Food_kcal', ['Kcal', '#7fc97f', 'grey']),\n",
    "                     ('production_Food_protein', ['Protein', '#beaed4', 'white']),\n",
    "                     ('production_Food_fat', ['Fat', '#fdc086', 'grey'])])\n",
    "\n",
    "with mpl.rc_context({\"lines.linewidth\": 1}):\n",
    "    colors = [\"black\", \"grey\", \"white\"]\n",
    "    \n",
    "    for key, value in plots.iteritems():\n",
    "\n",
    "        g = sns.barplot(x='Farm_Sizes', \n",
    "                        y=key, \n",
    "                        data=grouped, \n",
    "                        label=value[0], \n",
    "                        color=value[1],\n",
    "                        errcolor=value[2],\n",
    "                        ax=ax)\n",
    "        \n",
    "    \n",
    "labels = [item.get_text() for item in ax.get_xticklabels()]\n",
    "labels = [x[1:-1] for x in labels]\n",
    "ax.set_xticklabels(labels, rotation=45)\n",
    "ax.set_title('Average amount of kcal, protein, and fat produced per farm size group\\n',\n",
    "            fontsize=14)\n",
    "\n",
    "legend = ax.legend(frameon=True, fontsize=12)\n",
    "handles, labels = ax.get_legend_handles_labels()\n",
    "legend = ax.legend(handles[::-1], labels[::-1],\n",
    "                   loc='center left',\n",
    "                   frameon=1,\n",
    "                   bbox_to_anchor=(1, 0.5))\n",
    "frame = legend.get_frame()\n",
    "frame.set_color('#ffffff')\n",
    "\n",
    "ax.legend();"
   ]
  },
  {
   "cell_type": "code",
   "execution_count": null,
   "metadata": {
    "collapsed": true,
    "deletable": true,
    "editable": true
   },
   "outputs": [],
   "source": []
  }
 ],
 "metadata": {
  "kernelspec": {
   "display_name": "virtualenvironment",
   "language": "python",
   "name": "virtualenvironment"
  },
  "language_info": {
   "codemirror_mode": {
    "name": "ipython",
    "version": 2
   },
   "file_extension": ".py",
   "mimetype": "text/x-python",
   "name": "python",
   "nbconvert_exporter": "python",
   "pygments_lexer": "ipython2",
   "version": "2.7.10"
  }
 },
 "nbformat": 4,
 "nbformat_minor": 2
}
