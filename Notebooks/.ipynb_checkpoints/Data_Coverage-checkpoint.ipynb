{
 "cells": [
  {
   "cell_type": "code",
   "execution_count": 1,
   "metadata": {
    "scrolled": true
   },
   "outputs": [
    {
     "data": {
      "text/html": [
       "<script>\n",
       "code_show=true; \n",
       "function code_toggle() {\n",
       " if (code_show){\n",
       " $('div.input').hide();\n",
       " } else {\n",
       " $('div.input').show();\n",
       " }\n",
       " code_show = !code_show\n",
       "} \n",
       "$( document ).ready(code_toggle);\n",
       "</script>"
      ],
      "text/plain": [
       "<IPython.core.display.HTML object>"
      ]
     },
     "execution_count": 1,
     "metadata": {},
     "output_type": "execute_result"
    }
   ],
   "source": [
    "from IPython.display import HTML\n",
    "HTML('''<script>\n",
    "code_show=true; \n",
    "function code_toggle() {\n",
    " if (code_show){\n",
    " $('div.input').hide();\n",
    " } else {\n",
    " $('div.input').show();\n",
    " }\n",
    " code_show = !code_show\n",
    "} \n",
    "$( document ).ready(code_toggle);\n",
    "</script>''')"
   ]
  },
  {
   "cell_type": "markdown",
   "metadata": {},
   "source": [
    "<a name=\"Top\"></a>"
   ]
  },
  {
   "cell_type": "code",
   "execution_count": 2,
   "metadata": {},
   "outputs": [
    {
     "data": {
      "text/html": [
       "\n",
       "<style>\n",
       "    .yourDiv {position: fixed;top: 100px; right: 0px; \n",
       "              background: white;\n",
       "              height: 100%;\n",
       "              width: 175px; \n",
       "              padding: 10px; \n",
       "              z-index: 10000}\n",
       "</style>\n",
       "<script>\n",
       "function showthis(url) {\n",
       "\twindow.open(url, \"pres\", \n",
       "                \"toolbar=yes,scrollbars=yes,resizable=yes,top=10,left=400,width=500,height=500\");\n",
       "\treturn(false);\n",
       "}\n",
       "</script>\n",
       "\n",
       "<div class=yourDiv>\n",
       "    <h4>MENU</h4><br>\n",
       "    <a href=#Data>1.Data</a><br>\n",
       "    <a href=#SpatialCoverage>2. Spatial Coverage</a><br><br>\n",
       "\n",
       "    <a href=#Top>Top</a><br>\n",
       "    <a href=\"javascript:code_toggle()\">Toggle Code On/Off</a><br>\n",
       "    \n",
       "    <h4>PROJECT NOTEBOOKS</h4><br>\n",
       "    <a href='https://vinnyricciardi.github.io/farmsize_site/Html/Project_Overview'>Project Overview</a><br>\n",
       "    <a href='https://vinnyricciardi.github.io/farmsize_site/Html/Data_Coverage'>Data Coverage</a><br>\n",
       "    <a href='https://vinnyricciardi.github.io/farmsize_site/Html/General_Results'>General Results</a><br>\n",
       "    <a href='https://vinnyricciardi.github.io/farmsize_site/Html/Global_Estimate'>Global Estimates</a><br>\n",
       "    <a href='https://vinnyricciardi.github.io/farmsize_site/Html/Crop_Diversity'>Crop Diversity</a><br>\n",
       "    <a href='https://vinnyricciardi.github.io/farmsize_site/Html/Sensitivity_Analyses'>Sensitivity Analyses</a><br>\n",
       "    <a href='https://vinnyricciardi.github.io/farmsize_site/'>Site Index</a><br>\n",
       "</div>\n"
      ],
      "text/plain": [
       "<IPython.core.display.HTML object>"
      ]
     },
     "execution_count": 2,
     "metadata": {},
     "output_type": "execute_result"
    }
   ],
   "source": [
    "from IPython.display import HTML\n",
    "HTML('''\n",
    "<style>\n",
    "    .yourDiv {position: fixed;top: 100px; right: 0px; \n",
    "              background: white;\n",
    "              height: 100%;\n",
    "              width: 175px; \n",
    "              padding: 10px; \n",
    "              z-index: 10000}\n",
    "</style>\n",
    "<script>\n",
    "function showthis(url) {\n",
    "\twindow.open(url, \"pres\", \n",
    "                \"toolbar=yes,scrollbars=yes,resizable=yes,top=10,left=400,width=500,height=500\");\n",
    "\treturn(false);\n",
    "}\n",
    "</script>\n",
    "\n",
    "<div class=yourDiv>\n",
    "    <h4>MENU</h4><br>\n",
    "    <a href=#Data>1.Data</a><br>\n",
    "    <a href=#SpatialCoverage>2. Spatial Coverage</a><br><br>\n",
    "\n",
    "    <a href=#Top>Top</a><br>\n",
    "    <a href=\"javascript:code_toggle()\">Toggle Code On/Off</a><br>\n",
    "    \n",
    "    <h4>PROJECT NOTEBOOKS</h4><br>\n",
    "    <a href='https://vinnyricciardi.github.io/farmsize_site/Html/Project_Overview'>Project Overview</a><br>\n",
    "    <a href='https://vinnyricciardi.github.io/farmsize_site/Html/Data_Coverage'>Data Coverage</a><br>\n",
    "    <a href='https://vinnyricciardi.github.io/farmsize_site/Html/General_Results'>General Results</a><br>\n",
    "    <a href='https://vinnyricciardi.github.io/farmsize_site/Html/Global_Estimate'>Global Estimates</a><br>\n",
    "    <a href='https://vinnyricciardi.github.io/farmsize_site/Html/Crop_Diversity'>Crop Diversity</a><br>\n",
    "    <a href='https://vinnyricciardi.github.io/farmsize_site/Html/Sensitivity_Analyses'>Sensitivity Analyses</a><br>\n",
    "    <a href='https://vinnyricciardi.github.io/farmsize_site/'>Site Index</a><br>\n",
    "</div>\n",
    "''')"
   ]
  },
  {
   "cell_type": "markdown",
   "metadata": {
    "collapsed": true
   },
   "source": [
    "<a name=\"Top\"></a>\n",
    "<center><h1>Data Coverage Overview</h1>\n"
   ]
  },
  {
   "cell_type": "code",
   "execution_count": 12,
   "metadata": {
    "collapsed": true
   },
   "outputs": [],
   "source": [
    "# Import dependencies\n",
    "import warnings\n",
    "warnings.filterwarnings('ignore')\n",
    "import pandas as pd\n",
    "import geopandas as gpd\n",
    "import seaborn as sns\n",
    "from matplotlib import pyplot as plt\n",
    "import matplotlib.pyplot as plt\n",
    "from matplotlib.path import Path\n",
    "import matplotlib.patches as patches\n",
    "from matplotlib.pyplot import cm \n",
    "from matplotlib.gridspec import GridSpec\n",
    "from matplotlib.colors import LinearSegmentedColormap\n",
    "import matplotlib as mpl\n",
    "import numpy as np\n",
    "import re\n",
    "import geopy\n",
    "import mpld3\n",
    "import plotly.plotly as py\n",
    "import cmocean\n",
    "\n",
    "pd.set_option('display.max_columns', 500)\n",
    "%matplotlib inline"
   ]
  },
  {
   "cell_type": "code",
   "execution_count": 4,
   "metadata": {
    "collapsed": true
   },
   "outputs": [],
   "source": [
    "try:\n",
    "    PATH1 = '/Users/Vinny_Ricciardi/Documents/Data_Library_Big/Survey/Global/Farm_Size/Data/FarmSize_data_fullyProcessed.csv'\n",
    "    df = pd.read_csv(PATH1, low_memory=False)\n",
    "    PATH2 = '/Users/Vinny_Ricciardi/Documents/Data_Library_Big/Survey/Global/FaoStat/FAOSTAT/Production_Crops_E_All_Data_(Normalized)_with_regions.csv'\n",
    "    fao = pd.read_csv(PATH2)\n",
    "except:\n",
    "    PATH1 = '/home/vinny_ricciardi/Documents/Data_Library_SSD/Survey/Global/Farm_Size/Data/FarmSize_data_fullyProcessed.csv'\n",
    "    df = pd.read_csv(PATH1, low_memory=False)\n",
    "    PATH2 = '/home/vinny_ricciardi/Documents/Data_Library_SSD/Survey/Global/FaoStat/FAOSTAT/Production_Crops_E_All_Data_(Normalized)_with_regions.csv'\n",
    "    fao = pd.read_csv(PATH2)"
   ]
  },
  {
   "cell_type": "code",
   "execution_count": 5,
   "metadata": {
    "collapsed": true
   },
   "outputs": [],
   "source": [
    "# Top harvest area in world\n",
    "# tmp = fao.loc[(fao['Element'] == 'Area harvested') & (fao['Year'] == 2011)]\n",
    "# pivot = pd.pivot_table(tmp, index='Area', values='Value', aggfunc=np.nansum)\n",
    "# pivot = pivot.reset_index()\n",
    "# pivot = pivot.sort_values('Value')\n",
    "# pivot.tail(40)"
   ]
  },
  {
   "cell_type": "code",
   "execution_count": 6,
   "metadata": {
    "code_folding": [
     0
    ],
    "collapsed": true
   },
   "outputs": [],
   "source": [
    "# earthstat = ['Algeria', \n",
    "#               'Argentina', \n",
    "#               'Austria', \n",
    "#               'Denmark', \n",
    "#               'Estonia', \n",
    "#               'Lithuania', \n",
    "#               'Luxembourg', \n",
    "#               'Netherlands', \n",
    "#               'Norway', \n",
    "#               'Poland', \n",
    "#               'Portugal', \n",
    "#               'Romania', \n",
    "#               'Slovakia', \n",
    "#               'Cote divoire', \n",
    "#               'Elsalvador', \n",
    "#               'Laos', \n",
    "#               'Panama', \n",
    "#               'Oman', \n",
    "#               'Uruguay', \n",
    "#               'Spain', \n",
    "#               'Belgium', \n",
    "#               'Czechrepublic', \n",
    "#               'Slovenia', \n",
    "#               'Rwanda', \n",
    "#               'Malta']\n",
    "\n",
    "# lowder = ['China', \"Albania\",\n",
    "#           \"Algeria\",\n",
    "#           \"American Samoa\",\n",
    "#           \"Argentina\",\n",
    "#           \"Austria\",\n",
    "#           \"Bahamas\",\n",
    "#           \"Barbados\",\n",
    "#           \"Belgium\",\n",
    "#           \"Brazil\",\n",
    "#           \"Bulgaria\",\n",
    "#           \"Burkina Faso\",\n",
    "#           \"Chile\",\n",
    "#           \"Colombia\",\n",
    "#           \"Cªte d'Ivoire\",\n",
    "#           \"Croatia\",\n",
    "#           \"Cyprus\",\n",
    "#           \"Czech Republic\",\n",
    "#           \"Democratic Republic of the Congo\",\n",
    "#           \"Denmark\",\n",
    "#           \"Dominica\",\n",
    "#           \"Ecuador\",\n",
    "#           \"Egypt\",\n",
    "#           \"Estonia\",\n",
    "#           \"Ethiopia\",\n",
    "#           \"Fiji\",\n",
    "#           \"Finland\",\n",
    "#           \"France\",\n",
    "#           \"French Polynesia\",\n",
    "#           \"Georgia\",\n",
    "#           \"Germany\",\n",
    "#           \"Greece\",\n",
    "#           \"Grenada\",\n",
    "#           \"Guam\",\n",
    "#           \"Guatemala\",\n",
    "#           \"Guinea\",\n",
    "#           \"Honduras\",\n",
    "#           \"India\",\n",
    "#           \"Indonesia\",\n",
    "#           \"Iran (Islamic Republic of)\",\n",
    "#           \"Ireland\",\n",
    "#           \"Italy\",\n",
    "#           \"Japan\",\n",
    "#           \"Jamaica\",\n",
    "#           \"Jordan\",\n",
    "#           \"Korea, Rep. of\",\n",
    "#           \"Kyrgyzstan\",\n",
    "#           \"Lao People's Democratic Republic\",\n",
    "#           \"Latvia\",\n",
    "#           \"Lebanon\",\n",
    "#           \"Lithuania\",\n",
    "#           \"Luxembourg\",\n",
    "#           \"Malta\",\n",
    "#           \"Morocco\",\n",
    "#           \"Myanmar\",\n",
    "#           \"Namibia\",\n",
    "#           \"Nepal\",\n",
    "#           \"Netherlands\",\n",
    "#           \"Nicaragua\",\n",
    "#           \"Northern Mariana Islands\",\n",
    "#           \"Norway\",\n",
    "#           \"Pakistan\",\n",
    "#           \"Panama\",\n",
    "#           \"Paraguay\",\n",
    "#           \"Peru\",\n",
    "#           \"Philippines\",\n",
    "#           \"Poland\",\n",
    "#           \"Portugal\",\n",
    "#           \"Puerto Rico\",\n",
    "#           \"Qatar\",\n",
    "#           \"Romania\",\n",
    "#           \"Saint Lucia\",\n",
    "#           \"Saint Vincent and the Grenadines\",\n",
    "#           \"Samoa\",\n",
    "#           \"Senegal\",\n",
    "#           \"Serbia\",\n",
    "#           \"Sweden\",\n",
    "#           \"Switzerland\",\n",
    "#           \"Thailand\",\n",
    "#           \"Trinidad and Tobago\",\n",
    "#           \"Turkey\",\n",
    "#           \"Uganda\",\n",
    "#           \"United Kingdom\",\n",
    "#           \"United States of America\",\n",
    "#           \"Uruguay\",\n",
    "#           \"Venezuela (Bolivarian Republic of)\",\n",
    "#           \"Virgin Islands, United States\",\n",
    "#           \"Yemen\",\n",
    "#           \"Cook Islands\",\n",
    "#           \"French Guiana\",\n",
    "#           \"Guadeloupe\",\n",
    "#           \"Martinique\",\n",
    "#           \"R_union\",\n",
    "#           \"Canada\",\n",
    "#           \"China\",\n",
    "#           \"Guinea Bissau\",\n",
    "#           \"Hungary\",\n",
    "#           \"Lesotho\",\n",
    "#           \"Libya\",\n",
    "#           \"Malawi\",\n",
    "#           \"Mozambique\",\n",
    "#           \"New Zealand\",\n",
    "#           \"Slovakia\",\n",
    "#           \"Slovenia\",\n",
    "#           \"Spain\",\n",
    "#           \"St. Kitts & Nevis\",\n",
    "#           \"Viet Nam\",\n",
    "#           \"Australia\",\n",
    "#           \"Djibouti\",\n",
    "#           \"Mali\",\n",
    "#           \"Togo\",\n",
    "#           \"Zambia\"]\n",
    "\n",
    "# for i in lowder:\n",
    "#     has.append(i)\n",
    "# print len(has)\n",
    "\n",
    "# # Note: by adding Lowder, we can have ~170 countries, representing ~ 90% of produciton and ~87% of harvest area"
   ]
  },
  {
   "cell_type": "code",
   "execution_count": 100,
   "metadata": {
    "collapsed": true
   },
   "outputs": [],
   "source": [
    "year = int(round(df['year'].mean(), 0))\n",
    "has = list(df['NAME_0'].unique())\n",
    "# has.insert(0, \"China\")  # Note, China has the most harvest area missing (~20%+ of global)\n",
    "# has.insert(0, \"Argentina\")\n",
    "# has.insert(0, \"Indonesia\")\n",
    "# has.insert(0, \"Ukraine\")\n",
    "# has.insert(0, \"Canada\")\n",
    "# has.insert(0, \"Australia\")\n",
    "\n",
    "\n",
    "for t in ['Area harvested', 'Production']:\n",
    "    tmp1 = fao.loc[(fao['Area'] == 'World') & (fao['Element'] == t) & (fao['Year'] == year)]\n",
    "    tmp2 = fao.loc[(fao['Area'].isin(has)) & (fao['Element'] == t) & (fao['Year'] == year)]\n",
    "    perc = tmp2.Value.sum() / tmp1.Value.sum()\n",
    "    if t is 'Production':\n",
    "        p = perc\n",
    "    else:\n",
    "        a = perc\n",
    "# print p, a"
   ]
  },
  {
   "cell_type": "code",
   "execution_count": 101,
   "metadata": {
    "collapsed": true
   },
   "outputs": [],
   "source": [
    "df = df.query(\"production_Food_kcal == production_Food_kcal\")\n",
    "num_countries = len(df.NAME_0.unique())\n",
    "num_crops = len(df.Crop.unique())\n",
    "num_crops_fao = len(df.Crop.unique())\n",
    "num_admin = len(df.shpID.unique())\n",
    "num_micro = len(df.query(\"microdata == 1\").NAME_0.unique())\n",
    "num_tab = len(df.query(\"microdata == 0\").NAME_0.unique())\n",
    "num_sur = len(df.query(\"cen_sur == 'sur'\").NAME_0.unique())\n",
    "num_cen = len(df.query(\"cen_sur == 'cen'\").NAME_0.unique())\n",
    "avg_year = int(round(df.year.mean(), 0))\n",
    "min_year = df.year.min().astype(int)\n",
    "max_year = df.year.max().astype(int)\n",
    "perc_area = round(100 * a, 1)\n",
    "perc_prod = round(100 * p, 1)"
   ]
  },
  {
   "cell_type": "markdown",
   "metadata": {},
   "source": [
    "<a name=\"Data\"></a>\n",
    "<h2>Data</h2><br>\n"
   ]
  },
  {
   "cell_type": "markdown",
   "metadata": {
    "variables": {
     "avg_year": "2012",
     "max_year": "2013",
     "min_year": "2001",
     "num_admin": "3413",
     "num_cen": "31",
     "num_countries": "48",
     "num_crops": "127",
     "num_micro": "21",
     "num_sur": "17",
     "num_tab": "27",
     "perc_area": "36.8",
     "perc_prod": "33.9"
    }
   },
   "source": [
    "- Our dataset caputres the amount crop production by farms size<br>\n",
    "- {{num_countries}} countries are represented at either the national or subnational level.<br>\n",
    "- In total, there are {{num_admin}} national or subnational units.<br>\n",
    "- This captures {{perc_area}}% of global harvest area and {{perc_prod}}% of global crop production<br>\n",
    "- There are {{num_crops}} crops which we were able to match with the FAO's database to calculate the amount of crops produced by farm size class for food, feed, waste, seed, proccessing, and other in terms of kcal.<br>\n",
    "- We used {{num_tab}} tabulated datasets, and {{num_micro}} microdatasets (i.e., data at the household record level)\n",
    "- {{num_cen}} agricultural  censuses were used. Where census data was not used, nationally or subnationally representative household surveys were used ({{num_sur}} in total).\n",
    "- On average the data was from {{avg_year}}, with the oldest datasets from {{min_year}} and the newest from {{max_year}}<br>\n",
    "- We used the World Census of Agriculture's (WCA) farm size categories to be consistent with other studies.<br><br>\n",
    "\n",
    "[Click here to see our main findings](https://vinnyricciardi.github.io/farmsize_site/Html/General_Results)\n"
   ]
  },
  {
   "cell_type": "markdown",
   "metadata": {},
   "source": [
    "<a name=\"SpatialCoverage\"></a>\n",
    "<h2>Spatial Coverage</h2>"
   ]
  },
  {
   "cell_type": "code",
   "execution_count": 102,
   "metadata": {
    "collapsed": true
   },
   "outputs": [],
   "source": [
    "df['NAME_0'].replace(['United States of America'], ['United States'], inplace=True)\n",
    "df['NAME_0'].replace(['Bosnia and Herzegovina'], ['Bosnia and Herz.'], inplace=True)\n",
    "df['NAME_0'].replace(['United Republic of Tanzania'], ['Tanzania'], inplace=True)\n",
    "df['NAME_0'].replace(['Russian Federation'], ['Russia'], inplace=True)\n",
    "df['NAME_0'].replace(['Czech Republic'], ['Czech Rep.'], inplace=True)\n",
    "df['NAME_0'].replace(['Czech Republic'], ['Czech Rep.'], inplace=True)\n",
    "df['NAME_0'].replace(['Czech Republic'], ['Czech Rep.'], inplace=True)"
   ]
  },
  {
   "cell_type": "markdown",
   "metadata": {},
   "source": [
    "To do:\n",
    "- Map to be replaced with map of sub-national units after we spatially match all admin units"
   ]
  },
  {
   "cell_type": "code",
   "execution_count": null,
   "metadata": {
    "code_folding": [],
    "scrolled": true
   },
   "outputs": [],
   "source": [
    "pivoted = pd.pivot_table(df, \n",
    "                         index='NAME_0', \n",
    "                         values='Crop', \n",
    "                         aggfunc=lambda x: len(x.unique()))\n",
    "pivoted = pivoted.reset_index()\n",
    "pivoted = pivoted.sort_values('Crop', ascending=False)\n",
    "pivoted['Data_Available'] = pivoted['Crop'].astype(int)\n",
    "\n",
    "world = gpd.read_file(gpd.datasets.get_path('naturalearth_lowres'))\n",
    "\n",
    "world = world[(world.name != \"Antarctica\") & (world.name != \"Fr. S. Antarctic Lands\")]\n",
    "\n",
    "world = world.to_crs(\"+proj=robin\") # world.to_crs(epsg=3395) would also work\n",
    "\n",
    "\n",
    "world = pd.merge(world, pivoted, \n",
    "                 how='outer', \n",
    "                 left_on='name', \n",
    "                 right_on='NAME_0')\n",
    "\n",
    "world['Orig_crop'] = world['Crop'].fillna(0)\n",
    "world['coverage'] = np.where(world['Crop'] > 0, \n",
    "                             'Found and downloaded', \n",
    "                             np.where(world['Crop'] == -1, \n",
    "                                      'Found not downloaded',\n",
    "                                      'No data found'))\n",
    "\n",
    "warnings.filterwarnings('ignore')\n",
    "\n",
    "x = len(pivoted.NAME_0.unique())\n",
    "\n",
    "colors = {'data': '#beaed4',\n",
    "          'nodata': '#f2f0f7'}\n",
    "\n",
    "cmap = LinearSegmentedColormap.from_list('mycmap', [colors['data'], \n",
    "                                                    colors['nodata']])\n",
    "\n",
    "# plotting shp file to assess coverage\n",
    "pivoted2 = pd.pivot_table(df, \n",
    "                          index='shpID', \n",
    "                          values='NAME_0', \n",
    "                          aggfunc='count').reset_index()\n",
    "\n",
    "world2 = gpd.read_file('/home/vinny_ricciardi/Documents/Data_Library_SSD/Survey/Global/Farm_Size/Data/Shapefile/FSize.shp')\n",
    "# world2 = world2.query(\"geometry == geometry\")\n",
    "world2 = world2.to_crs(\"+proj=robin\")\n",
    "world2 = pd.merge(world2, pivoted2, \n",
    "                  how='inner', \n",
    "                  on='shpID').reset_index()\n",
    "world2['on'] = 1\n",
    "#\n",
    "\n",
    "try:\n",
    "    fig, ax = plt.subplots(figsize=(20, 10))\n",
    "    ax.set_aspect('equal')\n",
    "#     world.plot(column='coverage', cmap=cmap, ax=ax, alpha=1, linewidth=0.1)  #cmocean.cm.deep\n",
    "    world2.plot(column='on', cmap=cmap, ax=ax, alpha=1, linewidth=0.1)  #cmocean.cm.deep\n",
    "except:\n",
    "    pass\n",
    "\n",
    "ndf, fad = world.coverage.value_counts()\n",
    "cmap_ = cmocean.tools.get_dict(cmocean.cm.deep, N=4)\n",
    "\n",
    "p1 = mpl.lines.Line2D([], [], \n",
    "                             color=colors['nodata'],\n",
    "                             linewidth=10, \n",
    "                             label='Data not found ({})'.format(ndf))\n",
    "p2 = mpl.lines.Line2D([], [], \n",
    "                             color=colors['data'], \n",
    "                             linewidth=10, \n",
    "                             label='In dataset ({})'.format(fad))\n",
    "\n",
    "handles = [p1, p2]\n",
    "labels = [h.get_label() for h in handles] \n",
    "\n",
    "legend = ax.legend(handles=handles, labels=labels, frameon=True, \n",
    "                   fontsize=14, loc='lower left')\n",
    "\n",
    "legend.get_frame().set_facecolor('#ffffff')\n",
    "\n",
    "ax.set_axis_bgcolor(\"#323232\")\n",
    "ax.grid(alpha=0.0)\n",
    "\n",
    "plt.show()"
   ]
  },
  {
   "cell_type": "code",
   "execution_count": 11,
   "metadata": {
    "collapsed": true
   },
   "outputs": [],
   "source": [
    "# <a name=\"LeftOff\"></a>\n",
    "# <h3>Left Off</h3>"
   ]
  },
  {
   "cell_type": "code",
   "execution_count": null,
   "metadata": {
    "collapsed": true
   },
   "outputs": [],
   "source": []
  }
 ],
 "metadata": {
  "kernelspec": {
   "display_name": "py2_farmsize_global",
   "language": "python",
   "name": "py2_farmsize_global"
  },
  "language_info": {
   "codemirror_mode": {
    "name": "ipython",
    "version": 2
   },
   "file_extension": ".py",
   "mimetype": "text/x-python",
   "name": "python",
   "nbconvert_exporter": "python",
   "pygments_lexer": "ipython2",
   "version": "2.7.12"
  }
 },
 "nbformat": 4,
 "nbformat_minor": 1
}
