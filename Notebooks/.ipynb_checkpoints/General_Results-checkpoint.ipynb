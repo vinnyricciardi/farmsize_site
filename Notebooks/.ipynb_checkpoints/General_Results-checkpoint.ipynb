{
 "cells": [
  {
   "cell_type": "code",
   "execution_count": 2,
   "metadata": {
    "collapsed": false,
    "deletable": true,
    "editable": true,
    "scrolled": true
   },
   "outputs": [
    {
     "data": {
      "text/html": [
       "<script>\n",
       "code_show=true; \n",
       "function code_toggle() {\n",
       " if (code_show){\n",
       " $('div.input').hide();\n",
       " } else {\n",
       " $('div.input').show();\n",
       " }\n",
       " code_show = !code_show\n",
       "} \n",
       "$( document ).ready(code_toggle);\n",
       "</script>"
      ],
      "text/plain": [
       "<IPython.core.display.HTML object>"
      ]
     },
     "execution_count": 2,
     "metadata": {},
     "output_type": "execute_result"
    }
   ],
   "source": [
    "from IPython.display import HTML\n",
    "HTML('''<script>\n",
    "code_show=true; \n",
    "function code_toggle() {\n",
    " if (code_show){\n",
    " $('div.input').hide();\n",
    " } else {\n",
    " $('div.input').show();\n",
    " }\n",
    " code_show = !code_show\n",
    "} \n",
    "$( document ).ready(code_toggle);\n",
    "</script>''')"
   ]
  },
  {
   "cell_type": "code",
   "execution_count": 3,
   "metadata": {
    "code_folding": [],
    "collapsed": false,
    "deletable": true,
    "editable": true
   },
   "outputs": [
    {
     "data": {
      "text/html": [
       "\n",
       "<style>\n",
       "    .yourDiv {position: fixed;top: 100px; right: 0px; \n",
       "              background: white;\n",
       "              height: 100%;\n",
       "              width: 175px; \n",
       "              padding: 10px; \n",
       "              z-index: 10000}\n",
       "</style>\n",
       "<script>\n",
       "function showthis(url) {\n",
       "\twindow.open(url, \"pres\", \n",
       "                \"toolbar=yes,scrollbars=yes,resizable=yes,top=10,left=400,width=500,height=500\");\n",
       "\treturn(false);\n",
       "}\n",
       "</script>\n",
       "\n",
       "<div class=yourDiv>\n",
       "    <h4>MENU</h4><br>\n",
       "    <a href=#Data>1. Data</a><br>\n",
       "    <a href=#FoodFeedOtherAcross>2. Across Farm Sizes</a><br>\n",
       "    <a href=#FoodFeedOtherWithin>3. Within Farm Sizes</a><br><br>\n",
       "\n",
       "    <a href=#Top>Top</a><br>\n",
       "    <a href=\"javascript:code_toggle()\">Toggle Code On/Off</a><br>\n",
       "    <a href=#LeftOff>Left Off Here</a><br>\n",
       "    <a href='https://vinnyricciardi.github.io/farmsize_site/'>Site Index</a><br>\n",
       "</div>\n"
      ],
      "text/plain": [
       "<IPython.core.display.HTML object>"
      ]
     },
     "execution_count": 3,
     "metadata": {},
     "output_type": "execute_result"
    }
   ],
   "source": [
    "HTML('''\n",
    "<style>\n",
    "    .yourDiv {position: fixed;top: 100px; right: 0px; \n",
    "              background: white;\n",
    "              height: 100%;\n",
    "              width: 175px; \n",
    "              padding: 10px; \n",
    "              z-index: 10000}\n",
    "</style>\n",
    "<script>\n",
    "function showthis(url) {\n",
    "\twindow.open(url, \"pres\", \n",
    "                \"toolbar=yes,scrollbars=yes,resizable=yes,top=10,left=400,width=500,height=500\");\n",
    "\treturn(false);\n",
    "}\n",
    "</script>\n",
    "\n",
    "<div class=yourDiv>\n",
    "    <h4>MENU</h4><br>\n",
    "    <a href=#Data>1. Data</a><br>\n",
    "    <a href=#FoodFeedOtherAcross>2. Across Farm Sizes</a><br>\n",
    "    <a href=#FoodFeedOtherWithin>3. Within Farm Sizes</a><br><br>\n",
    "\n",
    "    <a href=#Top>Top</a><br>\n",
    "    <a href=\"javascript:code_toggle()\">Toggle Code On/Off</a><br>\n",
    "    <a href=#LeftOff>Left Off Here</a><br>\n",
    "    <a href='https://vinnyricciardi.github.io/farmsize_site/'>Site Index</a><br>\n",
    "</div>\n",
    "''')"
   ]
  },
  {
   "cell_type": "markdown",
   "metadata": {
    "deletable": true,
    "editable": true
   },
   "source": [
    "<a name=\"Top\"></a>\n",
    "<center><h1>General Results</h1>\n"
   ]
  },
  {
   "cell_type": "code",
   "execution_count": null,
   "metadata": {
    "collapsed": false,
    "deletable": true,
    "editable": true
   },
   "outputs": [],
   "source": [
    "number_countries = number_countries = len(data.NAME_0.unique())\n",
    "number_records = len(data)\n",
    "under_two_food = int(round((one_food + two_food) / 2, 0))\n",
    "under_two_waste = int(round((one_waste + two_waste) / 2, 0))\n",
    "under_two_feed = int(round((one_feed + two_feed) / 2, 0))"
   ]
  },
  {
   "cell_type": "markdown",
   "metadata": {
    "deletable": true,
    "editable": true,
    "variables": {
     "number_countries": "<p><strong>NameError</strong>: name &#39;number_countries&#39; is not defined</p>\n",
     "over_twohund": "<p><strong>NameError</strong>: name &#39;over_twohund&#39; is not defined</p>\n",
     "under_two": "<p><strong>NameError</strong>: name &#39;under_two&#39; is not defined</p>\n",
     "under_two_feed": "<p><strong>NameError</strong>: name &#39;under_two_feed&#39; is not defined</p>\n",
     "under_two_food": "<p><strong>NameError</strong>: name &#39;under_two_food&#39; is not defined</p>\n",
     "under_two_waste": "<p><strong>NameError</strong>: name &#39;under_two_waste&#39; is not defined</p>\n"
    }
   },
   "source": [
    "This page overviews our general results:\n",
    "\n",
    "- The main findings are that in our sample of {{number_countries}} countries, farms < 2 ha produce {{under_two}}% of the total food supply, while farms < 200 ha produce {{over_twohund}}% of the total food supply. The largest differences (in terms of effect size) in the amount of food produced were between the very large farm and the smallest farm categories in terms of how much food each produced.<br><br> \n",
    "\n",
    "- The farm size contributing to the largest amount of food waste (post-harvest loss, not consumer based food waste) are farms between 50-100 ha.<br><br>\n",
    "\n",
    "- This study also measures what percentage of each farm size class's crop producion goes towards food, feed, processing, seed, waste, or other. The farm size category with the largest percentage of food produced compared to other cateogories within thier farm size group, are from 100 to 1000 ha, where 70% of thier crop production goes towards food.<br><br>\n",
    "\n",
    "- {{under_two_food}}% of crop production on farms < 2 ha goes towards food, while {{under_two_feed}}% goes towards feed and {{under_two_waste}}% is lost post-harvest. The remainder either goes towards other, processing, or seed.<br><br>\n",
    "\n"
   ]
  },
  {
   "cell_type": "code",
   "execution_count": 5,
   "metadata": {
    "collapsed": false,
    "deletable": true,
    "editable": true
   },
   "outputs": [],
   "source": [
    "import warnings\n",
    "warnings.filterwarnings('ignore')\n",
    "import seaborn as sns\n",
    "import pandas as pd\n",
    "import numpy as np\n",
    "import matplotlib.pyplot as plt\n",
    "from matplotlib import cm\n",
    "import matplotlib.gridspec as gridspec\n",
    "from matplotlib import colors\n",
    "import copy\n",
    "from collections import OrderedDict\n",
    "from pivottablejs import pivot_ui  # python setup.py install --user\n",
    "plt.style.use('seaborn-muted')\n",
    "%matplotlib inline\n"
   ]
  },
  {
   "cell_type": "code",
   "execution_count": 6,
   "metadata": {
    "collapsed": true,
    "deletable": true,
    "editable": true
   },
   "outputs": [],
   "source": [
    "def read_data_init(path):\n",
    "    \n",
    "    data = pd.read_csv(path, low_memory=False)\n",
    "    data = data.loc[data['data_unit'] == 't']\n",
    "    data['Farm_Sizes'] = pd.cut(data['fs_class_max'],\n",
    "                                bins=[0, 1, 2, 5, 10, 20, 50,\n",
    "                                      100, 200, 500, 1000, 100000])\n",
    "    \n",
    "    data = data.replace(0.0, np.nan)  # there were many zero values\n",
    "    \n",
    "    return data"
   ]
  },
  {
   "cell_type": "code",
   "execution_count": 7,
   "metadata": {
    "collapsed": true,
    "deletable": true,
    "editable": true
   },
   "outputs": [],
   "source": [
    "def reshape_data(data):\n",
    "\n",
    "    global variables\n",
    "    variables = OrderedDict([('Farm_Sizes', 'Farm_Sizes'),\n",
    "                             ('production_Food_kcal', 'Food'),\n",
    "                             ('production_Feed_kcal', 'Feed'),\n",
    "                             ('production_Seed_kcal', 'Seed'),\n",
    "                             ('production_Waste_kcal', 'Waste'),\n",
    "                             ('production_Processing_kcal', 'Processing'),\n",
    "                             ('production_Other_kcal', 'Other')])\n",
    "\n",
    "    data = data.loc[:, variables.keys()]\n",
    "    data.columns = variables.values()\n",
    "\n",
    "    return data"
   ]
  },
  {
   "cell_type": "code",
   "execution_count": 8,
   "metadata": {
    "collapsed": true,
    "deletable": true,
    "editable": true
   },
   "outputs": [],
   "source": [
    "def piv(data, func=np.nansum):\n",
    "\n",
    "    pivot = pd.pivot_table(data,\n",
    "                           index=['Farm_Sizes'],\n",
    "                           values=variables.values()[1:],\n",
    "                           aggfunc=func)\n",
    "\n",
    "    return pivot"
   ]
  },
  {
   "cell_type": "code",
   "execution_count": 9,
   "metadata": {
    "collapsed": true,
    "deletable": true,
    "editable": true
   },
   "outputs": [],
   "source": [
    "def perc(data, how='within'):\n",
    "\n",
    "    if how is 'within':\n",
    "\n",
    "        pivot = piv(data)\n",
    "        pivot = pivot.transpose()\n",
    "\n",
    "        for variable in pivot.columns:\n",
    "            pivot[variable] = pivot[variable] / pivot[variable].sum()\n",
    "\n",
    "        return pivot.transpose()\n",
    "\n",
    "\n",
    "    elif how is 'cumsum':\n",
    "\n",
    "        pivot = piv(data)\n",
    "\n",
    "        for variable in pivot.columns:\n",
    "            pivot[variable] = pivot[variable] / pivot[variable].sum()\n",
    "\n",
    "        pivot = pivot.cumsum(axis=0)\n",
    "\n",
    "        return pivot\n",
    "\n",
    "\n",
    "    elif how is 'across':\n",
    "\n",
    "        pivot = piv(data)\n",
    "\n",
    "        for variable in pivot.columns:\n",
    "            pivot[variable] = pivot[variable] / pivot[variable].sum()\n",
    "\n",
    "        return pivot.transpose()\n",
    "\n",
    "    else:\n",
    "\n",
    "        print 'Require how argument'"
   ]
  },
  {
   "cell_type": "code",
   "execution_count": 10,
   "metadata": {
    "collapsed": false,
    "deletable": true,
    "editable": true
   },
   "outputs": [],
   "source": [
    "PATH = '/Users/Vinny_Ricciardi/Documents/Data_Library_Big/Survey/Global/Farm_Size/Data/FarmSize_data_fullyProcessed.csv'\n",
    "data_orig = read_data_init(PATH)\n",
    "df = reshape_data(data_orig)"
   ]
  },
  {
   "cell_type": "code",
   "execution_count": 11,
   "metadata": {
    "collapsed": false,
    "deletable": true,
    "editable": true
   },
   "outputs": [],
   "source": [
    "df_within = perc(df, how='within')\n",
    "df_across = perc(df, how='across')\n",
    "df_cumsum = perc(df, how='cumsum')\n",
    "df_raw = piv(df)"
   ]
  },
  {
   "cell_type": "code",
   "execution_count": 12,
   "metadata": {
    "collapsed": false,
    "deletable": true,
    "editable": true
   },
   "outputs": [],
   "source": [
    "tmp1 = df_within.copy()\n",
    "tmp1['Type'] = 'Within'\n",
    "\n",
    "tmp2 = df_across.copy()\n",
    "tmp2 = tmp2.transpose()\n",
    "tmp2['Type'] = 'Across'\n",
    "\n",
    "tmp3 = df_cumsum.copy()\n",
    "tmp3['Type'] = 'Cumsum'\n",
    "\n",
    "tmp4 = df_raw.copy()\n",
    "tmp4['Type'] = 'Raw'\n",
    "\n",
    "tmp = pd.concat([tmp1, tmp2, tmp3, tmp4])\n",
    "tmp = tmp.reset_index()\n",
    "tmp['Farm_Sizes'] = tmp['Farm_Sizes'].str.replace('(', '')\n",
    "tmp['Farm_Sizes'] = tmp['Farm_Sizes'].str.replace(']', '')"
   ]
  },
  {
   "cell_type": "markdown",
   "metadata": {
    "deletable": true,
    "editable": true
   },
   "source": [
    "<a name=\"Data\"></a>\n",
    "<h2>Data</h2><br>\n",
    "\n",
    "For an overview of the data, see the [data coverage notebook](https://vinnyricciardi.github.io/farmsize_site/Html/Data_Coverage).<br><br>\n",
    "Click the table to interactively explore the data. Use 'type' to change whether you are looking at the percentage of crop produced for each category 'within' a farm size group, 'across' groups, via a 'cumulative' percentage across groups, or raw kcal produced. Use the dropdown labeled 'Food' to recalculate based on another production category. "
   ]
  },
  {
   "cell_type": "code",
   "execution_count": 13,
   "metadata": {
    "collapsed": false,
    "deletable": true,
    "editable": true
   },
   "outputs": [
    {
     "data": {
      "text/html": [
       "<a href=\"https://vinnyricciardi.github.io/farmsize_site/Html/pivottablejs\" rel=\"some text\"><img src=https://vinnyricciardi.github.io/farmsize_site/Html/pivot_pic.png alt=\"Drawing\" style=\"width: 700px;\"/>"
      ],
      "text/plain": [
       "<IPython.core.display.HTML object>"
      ]
     },
     "metadata": {},
     "output_type": "display_data"
    }
   ],
   "source": [
    "%%html\n",
    "<a href=\"https://vinnyricciardi.github.io/farmsize_site/Html/pivottablejs\" rel=\"some text\"><img src=https://vinnyricciardi.github.io/farmsize_site/Html/pivot_pic.png alt=\"Drawing\" style=\"width: 700px;\"/>"
   ]
  },
  {
   "cell_type": "code",
   "execution_count": 14,
   "metadata": {
    "collapsed": false,
    "deletable": true,
    "editable": true
   },
   "outputs": [],
   "source": [
    "# pivot_ui(tmp, \n",
    "#          rows=['Farm_Sizes'], \n",
    "#          cols=['Type'], \n",
    "#          aggregatorName='Sum', \n",
    "#          vals=['Food'],\n",
    "#          rendererName='Col Heatmap', \n",
    "#          colOrder= \"value_a_to_z\",)\n",
    "\n",
    "# Enable for pivot table interactivitity within this Jupyter notebook\n",
    "# Here's a nice example of how to change the html output file for prettier output: \n",
    "# https://pivottable.js.org/examples/montreal_2014.html"
   ]
  },
  {
   "cell_type": "markdown",
   "metadata": {
    "deletable": true,
    "editable": true
   },
   "source": [
    "<a name=\"FoodFeedOtherAcross\"></a>\n",
    "<h2>Food Feed Other by Farm Size</h2><br>"
   ]
  },
  {
   "cell_type": "markdown",
   "metadata": {
    "deletable": true,
    "editable": true,
    "variables": {
     "round(100 * df_across.iloc[1,-2], 1)": "12.7"
    }
   },
   "source": [
    "This plot shows the percentage that each farm size contributes to each category (e.g., food, feed, other, etc.) For example, farms between 500 to 1000 ha produce {{round(100 * df_across.iloc[1,-2], 1)}}% of the total food supply in our sample."
   ]
  },
  {
   "cell_type": "code",
   "execution_count": 15,
   "metadata": {
    "collapsed": false,
    "deletable": true,
    "editable": true
   },
   "outputs": [],
   "source": [
    "def plot_stacked_bar(data, how='within', fig_=True, ax=None):\n",
    "\n",
    "    txt1 = ['Feed', 'Food', 'Other', 'Processing', 'Seed', 'Waste']\n",
    "    txt2 = ['< 1', '1 to 2', '2 to 5', '5 to 10', '10 to 20',\n",
    "            '20 to 50', '50 to 100', '100 to 200', '200 to 500',\n",
    "            '500 to 1000', '> 1000']\n",
    "    txt3 = ['< 1', '2 to 5', '10 to 20', '50 to 100', '200 to 500', '> 1000']\n",
    "\n",
    "    if how is 'within':\n",
    "\n",
    "        legend_txts = copy.copy(txt1)\n",
    "        labels_txts = copy.copy(txt2)\n",
    "        cmap = cm.get_cmap('Set3')\n",
    "        kind = 'bar'\n",
    "\n",
    "    elif how is 'across':\n",
    "\n",
    "        legend_txts = copy.copy(txt2)\n",
    "        labels_txts = copy.copy(txt1)\n",
    "        cmap = cm.get_cmap('YlGnBu')\n",
    "        kind = 'bar'\n",
    "\n",
    "    elif how is 'cumsum':\n",
    "\n",
    "        legend_txts = copy.copy(txt1)\n",
    "        labels_txts = copy.copy(txt3)\n",
    "        cmap = cm.get_cmap('Set3')\n",
    "        kind = 'area'\n",
    "    \n",
    "    else:\n",
    "        pass\n",
    "    \n",
    "    if fig_ is True:\n",
    "        \n",
    "        fig = plt.figure(figsize=[10, 5], facecolor='white')\n",
    "        ax = fig.add_subplot(111)\n",
    "    \n",
    "    else:\n",
    "        pass\n",
    "\n",
    "    data.plot(kind=kind,\n",
    "              stacked=True,\n",
    "              cmap=cmap,\n",
    "              alpha=0.9,\n",
    "              linewidth=0,\n",
    "              grid=False,\n",
    "              ax=ax)\n",
    "    \n",
    "    # Axis main\n",
    "    ax.set_axis_bgcolor(\"#d6d7e5\")\n",
    "    ax.set_clip_on(False)\n",
    "    box = ax.get_position()\n",
    "    ax.set_position([box.x0, box.y0, box.width * 0.8, box.height])\n",
    "\n",
    "    # Legend\n",
    "    legend_txts_r = copy.deepcopy(legend_txts)\n",
    "    legend_txts_r.reverse()\n",
    "    handles, labels = ax.get_legend_handles_labels()\n",
    "    legend = ax.legend(handles[::-1], labels[::-1],\n",
    "                       loc='center left',\n",
    "                       frameon=1,\n",
    "                       bbox_to_anchor=(1, 0.5))\n",
    "\n",
    "    for i in xrange(len(legend_txts_r)):\n",
    "        legend.get_texts()[i].set_text(legend_txts_r[i])\n",
    "\n",
    "    frame = legend.get_frame()\n",
    "    frame.set_color('white')\n",
    "\n",
    "    # Axis particulars\n",
    "    ax.set_xticklabels(labels_txts)\n",
    "    ax.set_xticklabels(ax.xaxis.get_majorticklabels(), rotation=45)\n",
    "\n",
    "    if how is 'within':\n",
    "        ax.set_xlabel('Farm Sizes (ha)')\n",
    "        ax.set_ylabel('Percentage\\n')\n",
    "        ax.set_ylim([0, 1])\n",
    "        ax.set_title('Type of production per farm size\\n', fontsize=12)\n",
    "\n",
    "    elif how is 'across':\n",
    "        ax.set_xlabel('Category')\n",
    "        ax.set_ylabel('Percentage\\n')\n",
    "        ax.set_ylim([0, 1])\n",
    "        ax.set_title('Type of production across farm size\\n', fontsize=12)\n",
    "        \n",
    "    elif how is 'cumsum':\n",
    "        ax.set_xlabel('Farm Sizes (ha)')\n",
    "        ax.set_ylabel('Percentage\\n')\n",
    "        ax.set_title('Type of production per farm size: Cumulative\\n', fontsize=12)\n",
    "\n",
    "    if fig_ is True:\n",
    "        return plt.show()\n",
    "\n",
    "    else:\n",
    "        return ax\n"
   ]
  },
  {
   "cell_type": "code",
   "execution_count": 16,
   "metadata": {
    "collapsed": false,
    "deletable": true,
    "editable": true
   },
   "outputs": [
    {
     "data": {
      "image/png": "[encoded data removed]",
      "text/plain": [
       "<matplotlib.figure.Figure at 0x10f68ab10>"
      ]
     },
     "metadata": {},
     "output_type": "display_data"
    }
   ],
   "source": [
    "plot_stacked_bar(df_across, how='across', fig_=True)"
   ]
  },
  {
   "cell_type": "code",
   "execution_count": 17,
   "metadata": {
    "collapsed": false,
    "deletable": true,
    "editable": true
   },
   "outputs": [],
   "source": [
    "under_two = round(100 * df_cumsum.iloc[2,1], 1)\n",
    "under_fifty = round(100 * df_cumsum.iloc[5,1], 1)\n",
    "over_twohund = round(100 * (df_across.iloc[1,8:].sum()), 1)"
   ]
  },
  {
   "cell_type": "markdown",
   "metadata": {
    "deletable": true,
    "editable": true,
    "variables": {
     "under_fifty": "48.9",
     "under_two": "25.8"
    }
   },
   "source": [
    "This plot also shows the percentage that each farm size contributes to each category but in cumulative percentages. For example, farms under 2 ha produce {{under_two}}% of the total food supply in our sample and farms 50 ha and under produce {{under_fifty}}% of the total food supply in our sample. Again, here is a [link](https://vinnyricciardi.github.io/farmsize_site/Html/pivottablejs) to an interactive pivot table so you can explore the data in more detail."
   ]
  },
  {
   "cell_type": "code",
   "execution_count": 18,
   "metadata": {
    "collapsed": false,
    "deletable": true,
    "editable": true
   },
   "outputs": [
    {
     "data": {
      "image/png": "[encoded data removed]",
      "text/plain": [
       "<matplotlib.figure.Figure at 0x10f4f5950>"
      ]
     },
     "metadata": {},
     "output_type": "display_data"
    }
   ],
   "source": [
    "plot_stacked_bar(df_cumsum, how='cumsum', fig_=True)"
   ]
  },
  {
   "cell_type": "code",
   "execution_count": 19,
   "metadata": {
    "code_folding": [],
    "collapsed": false,
    "deletable": true,
    "editable": true
   },
   "outputs": [],
   "source": [
    "def factor_plot(data, id_var='Farm_Sizes'):\n",
    "    \n",
    "    data = pd.melt(data, id_vars='Farm_Sizes')\n",
    "    data = data.loc[data['value'] > 0.5] \n",
    "    data['log'] = np.log(data['value'])\n",
    "    \n",
    "    fs_order = ['(0, 1]', '(1, 2]', '(2, 5]', '(5, 10]', \n",
    "                '(10, 20]', '(20, 50]', '(50, 100]', '(100, 200]', '(200, 500]',\n",
    "                '(500, 1000]', '(1000, 100000]']\n",
    "    \n",
    "    if id_var is 'Farm_Sizes':\n",
    "        \n",
    "        col = 'variable'\n",
    "        x = 'Farm_Sizes'\n",
    "        y = 'log'\n",
    "        order = fs_order\n",
    "\n",
    "    else:\n",
    "        \n",
    "        data = data.sort('Farm_Sizes')\n",
    "        data['Farm_Sizes'] = pd.Categorical(data['Farm_Sizes'], fs_order)\n",
    "        data = data.sort('Farm_Sizes')\n",
    "        col = 'Farm_Sizes'\n",
    "        x = 'variable'\n",
    "        y = 'log'\n",
    "        order = None\n",
    "\n",
    "    g = sns.factorplot(x=x, y=y,\n",
    "                       col=col, \n",
    "                       data=data,\n",
    "                       kind='box',\n",
    "                       col_wrap=2,\n",
    "                       color='#55a868',\n",
    "                       fliersize=1,\n",
    "                       aspect = 1.5,\n",
    "                       order=order)\n",
    "\n",
    "    g.fig.subplots_adjust(wspace=0.2, hspace=0.3)\n",
    "\n",
    "    titles = data.variable.unique()\n",
    "    \n",
    "    fs_txt = ['< 1', '1 to 2', '2 to 5', '5 to 10', '10 to 20',\n",
    "              '20 to 50', '50 to 100', '100 to 200', '200 to 500',\n",
    "              '500 to 1000', '> 1000']\n",
    "    \n",
    "    if id_var is 'Farm_Sizes':\n",
    "        \n",
    "        for ax, title in zip(g.axes.flat, titles):\n",
    "            \n",
    "            ax.set_title(title)\n",
    "            ax.set_ylabel('Production \\n ln (kcal)')\n",
    "            ax.set_xticklabels(fs_txt)\n",
    "            ax.set_xticklabels(ax.xaxis.get_majorticklabels(), rotation=45)\n",
    "            ax.set_xlabel('\\nFarm Sizes (ha)')\n",
    "        \n",
    "    else:\n",
    "        \n",
    "        for ax, title in zip(g.axes.flat, fs_txt):\n",
    "            \n",
    "            ax.set_title(title)\n",
    "            ax.set_ylabel('Production \\n ln (kcal)')\n",
    "            ax.set_xticklabels(ax.xaxis.get_majorticklabels(), rotation=45)\n",
    "            ax.set_xlabel('\\nPoduction Category')"
   ]
  },
  {
   "cell_type": "markdown",
   "metadata": {
    "deletable": true,
    "editable": true
   },
   "source": [
    "In order to better understand whether there are differences between the farm size groups, these boxplots show the total amount of crops produced (in logged kcal for standardization). Across all production categories (e.g., food, feed, other, etc.) there are no visual differences in the means and confidence intervals. But, there are many of outliers in each plot that indicate high variance."
   ]
  },
  {
   "cell_type": "code",
   "execution_count": null,
   "metadata": {
    "collapsed": false,
    "deletable": true,
    "editable": true
   },
   "outputs": [
    {
     "data": {
      "image/png": "[encoded data removed]",
      "text/plain": [
       "<matplotlib.figure.Figure at 0x111157890>"
      ]
     },
     "metadata": {},
     "output_type": "display_data"
    }
   ],
   "source": [
    "factor_plot(df, id_var='Farm_Sizes')"
   ]
  },
  {
   "cell_type": "markdown",
   "metadata": {
    "deletable": true,
    "editable": true
   },
   "source": [
    "Since many of the plots have large variance and skewness, here are density plots comparing farm size classes per each category. We can see that the largest farm size group has different distributions from the remaining groups."
   ]
  },
  {
   "cell_type": "code",
   "execution_count": null,
   "metadata": {
    "collapsed": false,
    "deletable": true,
    "editable": true
   },
   "outputs": [],
   "source": [
    "colors_ = ['#97d6b9',\n",
    "          '#73c8bd',\n",
    "          '#52bcc2',\n",
    "          '#37acc3',\n",
    "          '#2498c1',\n",
    "          '#1f80b8',\n",
    "          '#2165ab',\n",
    "          '#234da0',\n",
    "          '#253795',\n",
    "          '#172978',\n",
    "          '#081d58'] \n",
    "\n",
    "tmp = df.copy()\n",
    "tmp = pd.melt(tmp, id_vars='Farm_Sizes')\n",
    "tmp = tmp.dropna()\n",
    "cols = np.sort(tmp['variable'].unique())\n",
    "fs = ['(0, 1]', '(1, 2]', '(2, 5]', '(5, 10]', \n",
    "      '(10, 20]', '(20, 50]', '(50, 100]', \n",
    "      '(100, 200]', '(200, 500]', '(500, 1000]', \n",
    "      '(1000, 100000]']\n",
    "\n",
    "fig = plt.figure(figsize=[20,10])\n",
    "\n",
    "for j in xrange(len(cols)):\n",
    "    \n",
    "    ax = fig.add_subplot(2, 3, j+1)\n",
    "    ax.set_axis_bgcolor(\"#d6d7e5\")\n",
    "    ax.grid(alpha=0.0)\n",
    "\n",
    "    tmp1 = tmp.loc[tmp['variable'] == cols[j]]\n",
    "\n",
    "    for i in xrange(len(fs)):\n",
    "\n",
    "        tmp2 = tmp1.loc[tmp1['Farm_Sizes'] == fs[i]]\n",
    "        np.log(tmp2['value']).plot(kind='kde', \n",
    "                                   label=fs[i][1:-1] + ' ha',\n",
    "                                   color=colors_[i],\n",
    "                                   ax=ax)\n",
    "        \n",
    "    ax.set_title(cols[j], fontsize=16)\n",
    "    ax.set_ylabel('Density', fontsize=16)\n",
    "    \n",
    "legend = ax.legend(frameon=True, fontsize=12)\n",
    "frame = legend.get_frame()\n",
    "frame.set_color('#d6d7e5')\n",
    "\n",
    "plt.tight_layout()\n",
    "plt.show()"
   ]
  },
  {
   "cell_type": "code",
   "execution_count": null,
   "metadata": {
    "collapsed": false,
    "deletable": true,
    "editable": true
   },
   "outputs": [],
   "source": [
    "number_records, number_countries = data_stats(PATH)"
   ]
  },
  {
   "cell_type": "markdown",
   "metadata": {
    "collapsed": false,
    "deletable": true,
    "editable": true,
    "variables": {
     "number_countries": "<p><strong>NameError</strong>: name &#39;number_countries&#39; is not defined</p>\n",
     "number_records": "<p><strong>NameError</strong>: name &#39;number_records&#39; is not defined</p>\n"
    }
   },
   "source": [
    "Since our sample is very large ({{number_countries}} countries which comprise of {{number_records}} total records due to subnational units and crop types) we cannot use p-values to determine significance between the amount of production by varying farm sizes.<br><br>\n",
    "To circumvent the large dataset issue, the effect size was used to determine differences between farm sizes rather than statistical significance. Cohen's d was calculated via taking the (mean of farmsize 1 - mean of farmsize 2) / (standard deviation of farmsize 1) then taking the absolute value. The relative significance was calculated by thresholds according to [Sullivan and Feinn 2012](https://www.ncbi.nlm.nih.gov/pmc/articles/PMC3444174/).\n",
    "\n",
    "Where the Cohen d's effect size values correspond to percent non-overlapping observations, as in:\n",
    "\n",
    "\n",
    "| **Relative Size** | **Effect Size**| **Percentile**| **% of Non-overlap**|\n",
    "|---------------\t|:-------------:|:-----------:\t|:-------------------:\t|\n",
    "|               \t|      0      \t|     50    \t|         0         \t|\n",
    "| Small         \t|     0.2     \t|     58    \t|         15        \t|\n",
    "| Medium        \t|     0.5     \t|     69    \t|         33        \t|\n",
    "| Large         \t|     0.8     \t|     79    \t|         47        \t|\n",
    "|               \t|     1.0     \t|     84    \t|         55        \t|\n",
    "|               \t|     1.5     \t|     93    \t|         71        \t|\n",
    "|               \t|     2.0     \t|     97    \t|         81        \t|"
   ]
  },
  {
   "cell_type": "code",
   "execution_count": null,
   "metadata": {
    "collapsed": false,
    "deletable": true,
    "editable": true
   },
   "outputs": [],
   "source": [
    "def cohens_d(data1, data2, how='within'):\n",
    "\n",
    "    cols = data1.columns\n",
    "    check = []\n",
    "    \n",
    "    for i in xrange(0, len(cols)):\n",
    "        \n",
    "        for j in xrange(1, len(cols)):\n",
    "            \n",
    "            col_name = str(cols[i]) + '_' + str(cols[j])\n",
    "            col_name_r = str(cols[j]) + '_' + str(cols[i])\n",
    "\n",
    "            if col_name in check:\n",
    "                \n",
    "                pass\n",
    "\n",
    "            elif cols[i] is cols[j]:\n",
    "                \n",
    "                pass\n",
    "\n",
    "            else:\n",
    "                \n",
    "                data1[col_name] = ((data1[cols[i]] - data1[cols[j]]) / data2[cols[i]]).abs()\n",
    "                check.append(col_name)\n",
    "                check.append(col_name_r)\n",
    "\n",
    "    data = data1.iloc[:, len(cols):]\n",
    "\n",
    "    data = data.reset_index()\n",
    "\n",
    "    if how is 'within':\n",
    "        \n",
    "        data = pd.melt(data, id_vars='Farm_Sizes', value_name='cohens_d')\n",
    "\n",
    "    else:\n",
    "        \n",
    "        data = pd.melt(data, id_vars='index', value_name='cohens_d')\n",
    "        \n",
    "    data['cohens_d_level'] = np.where(data['cohens_d'] <= 0.2, 'small',\n",
    "                                      np.where(data['cohens_d'] >= 0.8, 'large',\n",
    "                                               'medium'))\n",
    "\n",
    "    return data"
   ]
  },
  {
   "cell_type": "code",
   "execution_count": null,
   "metadata": {
    "collapsed": false,
    "deletable": true,
    "editable": true
   },
   "outputs": [],
   "source": [
    "def cohens_interp(func=np.mean, index='index'):\n",
    "    \n",
    "    tmp = pd.pivot_table(out, \n",
    "                         index=index, \n",
    "                         columns='cohens_d_level', \n",
    "                         values='cohens_d', \n",
    "                         aggfunc=func)   \n",
    "    \n",
    "    tmp = tmp.reset_index()\n",
    "\n",
    "    try:\n",
    "        tmp = tmp.sort('large', ascending=False)\n",
    "        tmp.columns = ['Category', 'large d', 'medium d', 'small d']\n",
    "\n",
    "    except:\n",
    "        tmp = tmp.sort('medium', ascending=False)\n",
    "        tmp.columns = ['Farm Sizes', 'medium d', 'small d']\n",
    "    \n",
    "    return tmp"
   ]
  },
  {
   "cell_type": "markdown",
   "metadata": {
    "deletable": true,
    "editable": true
   },
   "source": [
    "Here are the biggest differences between farm size groups. As expected, there are large coefficients (effect size) between small and large farm classes."
   ]
  },
  {
   "cell_type": "code",
   "execution_count": null,
   "metadata": {
    "collapsed": false,
    "deletable": true,
    "editable": true
   },
   "outputs": [],
   "source": [
    "data = df.copy()\n",
    "data['Farm_Sizes'] = data['Farm_Sizes'].astype(str)\n",
    "means = pd.pivot_table(data, columns='Farm_Sizes', aggfunc=np.nanmean)\n",
    "sds = pd.pivot_table(data, columns='Farm_Sizes', aggfunc=np.nanstd)\n",
    "out = cohens_d(means, sds, how='across')\n",
    "\n",
    "tmp = out.copy()\n",
    "tmp['Farm_Sizes'] = tmp['Farm_Sizes'].str.replace(']', ')')\n",
    "tmp['Farm_Sizes'] = tmp['Farm_Sizes'].str.replace('_', ' and ')\n",
    "tmp.columns = ['Category', 'Farm sizes compared', 'Cohens d', 'Relative effect size']\n",
    "tmp = tmp.sort('Cohens d', ascending=False)\n",
    "tmp.head(10)"
   ]
  },
  {
   "cell_type": "markdown",
   "metadata": {
    "deletable": true,
    "editable": true
   },
   "source": [
    "On average, the largest effect size were in the seed and food categories."
   ]
  },
  {
   "cell_type": "code",
   "execution_count": null,
   "metadata": {
    "collapsed": false,
    "deletable": true,
    "editable": true
   },
   "outputs": [],
   "source": [
    "cohens_interp(func=np.mean)"
   ]
  },
  {
   "cell_type": "markdown",
   "metadata": {
    "deletable": true,
    "editable": true
   },
   "source": [
    "The seed and food categories also had the highest frequency of large effect sizes between farm size groups."
   ]
  },
  {
   "cell_type": "code",
   "execution_count": null,
   "metadata": {
    "collapsed": false,
    "deletable": true,
    "editable": true
   },
   "outputs": [],
   "source": [
    "cohens_interp(func=len)"
   ]
  },
  {
   "cell_type": "markdown",
   "metadata": {
    "deletable": true,
    "editable": true
   },
   "source": [
    "<a name=\"FoodFeedOtherWithin\"></a>\n",
    "<h2>Food Feed Other within Farm Size Groups</h2><br>"
   ]
  },
  {
   "cell_type": "code",
   "execution_count": null,
   "metadata": {
    "collapsed": false,
    "deletable": true,
    "editable": true
   },
   "outputs": [],
   "source": [
    "one_food = round(100 * df_within.iloc[0,1], 1)\n",
    "one_waste = round(100 * df_within.iloc[0,5], 1)\n",
    "two_food = round(100 * df_within.iloc[1,1], 1)\n",
    "two_waste = round(100 * df_within.iloc[1,5], 1)\n",
    "one_feed =  round(100 * df_within.iloc[0,0], 1)\n",
    "two_feed =  round(100 * df_within.iloc[1,0], 1)"
   ]
  },
  {
   "cell_type": "markdown",
   "metadata": {
    "deletable": true,
    "editable": true,
    "variables": {
     "one_food": "<p><strong>NameError</strong>: name &#39;one_food&#39; is not defined</p>\n",
     "one_waste": "<p><strong>NameError</strong>: name &#39;one_waste&#39; is not defined</p>\n"
    }
   },
   "source": [
    "This plot shows the percentage of Food, Feed, Seed, Waste, Processing, and Other for each farm size category. For example, {{one_food}} % of the crops produced for farms under 1 ha is food, while {{one_waste}}% of their crop production is waste."
   ]
  },
  {
   "cell_type": "code",
   "execution_count": null,
   "metadata": {
    "collapsed": false,
    "deletable": true,
    "editable": true
   },
   "outputs": [],
   "source": [
    "plot_stacked_bar(df_within, how='within', fig_=True)"
   ]
  },
  {
   "cell_type": "markdown",
   "metadata": {
    "deletable": true,
    "editable": true
   },
   "source": [
    "In order to better understand whether there are differences within how a given farm size group allocates their crop production, these boxplots show the total amount of crops produced (in logged kcal for standardization). As in the previous analysis, across all farm size categories there are no visual differences in the means and confidence intervals. But, there are many of outliers in each plot that indicate high variance."
   ]
  },
  {
   "cell_type": "code",
   "execution_count": null,
   "metadata": {
    "collapsed": false,
    "deletable": true,
    "editable": true
   },
   "outputs": [],
   "source": [
    "factor_plot(df, id_var='variable')"
   ]
  },
  {
   "cell_type": "markdown",
   "metadata": {
    "deletable": true,
    "editable": true
   },
   "source": [
    "Since many of the plots have large variance and skewness, here are density plots comparing farm size classes per each category. We can see that the largest farm size group has different distributions from the remaining groups.\n",
    "\n",
    "To do:\n",
    "- Fix color map"
   ]
  },
  {
   "cell_type": "code",
   "execution_count": null,
   "metadata": {
    "collapsed": false,
    "deletable": true,
    "editable": true
   },
   "outputs": [],
   "source": [
    "tmp = df.copy()\n",
    "fs = ['(0, 1]', '(1, 2]', '(2, 5]', '(5, 10]', \n",
    "      '(10, 20]', '(20, 50]', '(50, 100]', \n",
    "      '(100, 200]', '(200, 500]', '(500, 1000]', \n",
    "      '(1000, 100000]']\n",
    "\n",
    "tmp = tmp.dropna()\n",
    "cols = tmp.columns\n",
    "\n",
    "cmap = cm.get_cmap('viridis', 7)    # Set3 and YlGnBu are used throughout\n",
    "colors_ = []\n",
    "\n",
    "for i in range(cmap.N):\n",
    "    rgb = cmap(i)[:3] # will return rgba, we take only first 3 so we get rgb\n",
    "    colors_.append(colors.rgb2hex(rgb))\n",
    "\n",
    "\n",
    "fig = plt.figure(figsize=[20,15])\n",
    "\n",
    "for j in xrange(len(fs)):\n",
    "    \n",
    "    tmp1 = tmp.loc[tmp['Farm_Sizes'] == fs[j]]\n",
    "\n",
    "    ax = fig.add_subplot(4, 3, j+1)\n",
    "    ax.set_axis_bgcolor(\"#d6d7e5\")\n",
    "    ax.grid(alpha=0.0)\n",
    "\n",
    "    for i in xrange(1, len(cols)):\n",
    "        np.log(tmp1[cols[i]]).plot(kind='kde', \n",
    "                                   label=cols[i],\n",
    "                                   color=colors_[i],\n",
    "                                   linewidth=2,\n",
    "                                   ax=ax)\n",
    "    \n",
    "    ax.set_title(fs[j][1:-1] + ' ha', fontsize=16)\n",
    "    ax.set_ylabel('Density', fontsize=14)\n",
    "\n",
    "legend = ax.legend(frameon=True)\n",
    "frame = legend.get_frame()\n",
    "frame.set_color('#ffffff')\n",
    "\n",
    "plt.tight_layout()\n",
    "plt.show()"
   ]
  },
  {
   "cell_type": "markdown",
   "metadata": {
    "deletable": true,
    "editable": true
   },
   "source": [
    "We calculated the effect size for the differences within each farm size group, but across production cateogries (e.g., food, feed, other).\n",
    "There were only medium differences in effect size when looking at how each farm size group allocated their production."
   ]
  },
  {
   "cell_type": "code",
   "execution_count": null,
   "metadata": {
    "collapsed": false,
    "deletable": true,
    "editable": true
   },
   "outputs": [],
   "source": [
    "means = pd.pivot_table(df, index='Farm_Sizes', aggfunc=np.nanmean)\n",
    "sds =  pd.pivot_table(df, index='Farm_Sizes', aggfunc=np.nanstd)\n",
    "out = cohens_d(means, sds, how='within')\n",
    "\n",
    "tmp = out.copy()\n",
    "tmp = tmp.loc[out['cohens_d_level'] != 'small']\n",
    "tmp['Farm_Sizes'] = tmp['Farm_Sizes'].str.replace(']', ')')\n",
    "tmp['variable'] = tmp['variable'].str.replace('_', ' and ')\n",
    "tmp.columns = ['Farm sizes', 'Categories commpared', 'Cohens d', 'Relative effect size']\n",
    "tmp = tmp.sort('Cohens d', ascending=False)\n",
    "out = out.reset_index()\n",
    "tmp.head(10)"
   ]
  },
  {
   "cell_type": "markdown",
   "metadata": {
    "deletable": true,
    "editable": true
   },
   "source": [
    "On average, the largest effect size were in the larger farm size groups."
   ]
  },
  {
   "cell_type": "code",
   "execution_count": null,
   "metadata": {
    "collapsed": false,
    "deletable": true,
    "editable": true
   },
   "outputs": [],
   "source": [
    "cohens_interp(func=np.mean, index='Farm_Sizes').head()"
   ]
  },
  {
   "cell_type": "markdown",
   "metadata": {
    "deletable": true,
    "editable": true
   },
   "source": [
    "The most frequent differences between categories within a farm size group was for the 500 to 1000 ha group."
   ]
  },
  {
   "cell_type": "code",
   "execution_count": null,
   "metadata": {
    "collapsed": false,
    "deletable": true,
    "editable": true
   },
   "outputs": [],
   "source": [
    "cohens_interp(func=len, index='Farm_Sizes').head()"
   ]
  },
  {
   "cell_type": "markdown",
   "metadata": {
    "deletable": true,
    "editable": true
   },
   "source": [
    "<a name=\"Global Estimates\"></a>\n",
    "<h2>Global Estimates</h2><br>\n"
   ]
  },
  {
   "cell_type": "code",
   "execution_count": null,
   "metadata": {
    "collapsed": false,
    "deletable": true,
    "editable": true
   },
   "outputs": [],
   "source": [
    "data = data_orig.copy()\n",
    "variables = ['NAME_0', \n",
    "             'Crop',\n",
    "             'fs_class_min', \n",
    "             'fs_class_max', \n",
    "             'Farm_Sizes',\n",
    "             'cen_sur', \n",
    "             'Production_fix', \n",
    "             'Production_constant',\n",
    "             'production_Food',\n",
    "             'production_Food_k']\n",
    "data = data.loc[:, variables]"
   ]
  },
  {
   "cell_type": "code",
   "execution_count": null,
   "metadata": {
    "collapsed": false,
    "deletable": true,
    "editable": true
   },
   "outputs": [],
   "source": [
    "countries = data.NAME_0.unique()\n",
    "c = []\n",
    "v = []\n",
    "\n",
    "for country in countries:\n",
    "    tmp = data.loc[data['NAME_0'] != countries[0]]\n",
    "    value = tmp.production_Food.sum()\n",
    "    c.append(country)\n",
    "    v.append(value)\n",
    "\n",
    "out = pd.concat([pd.DataFrame(c), pd.DataFrame(v)], axis=1)\n",
    "out.columns = ['country', 'value']"
   ]
  },
  {
   "cell_type": "markdown",
   "metadata": {
    "deletable": true,
    "editable": true
   },
   "source": [
    "<a name=\"LeftOff\"></a>\n",
    "<h3>Left Off</h3>\n",
    "\n",
    "To Do:\n",
    "- Need to calculate bootstraps and jackknife estimates"
   ]
  },
  {
   "cell_type": "markdown",
   "metadata": {
    "collapsed": true,
    "deletable": true,
    "editable": true
   },
   "source": [
    "test"
   ]
  },
  {
   "cell_type": "code",
   "execution_count": null,
   "metadata": {
    "collapsed": true
   },
   "outputs": [],
   "source": []
  }
 ],
 "metadata": {
  "kernelspec": {
   "display_name": "virtualenvironment",
   "language": "python",
   "name": "virtualenvironment"
  },
  "language_info": {
   "codemirror_mode": {
    "name": "ipython",
    "version": 2
   },
   "file_extension": ".py",
   "mimetype": "text/x-python",
   "name": "python",
   "nbconvert_exporter": "python",
   "pygments_lexer": "ipython2",
   "version": "2.7.10"
  }
 },
 "nbformat": 4,
 "nbformat_minor": 2
}
