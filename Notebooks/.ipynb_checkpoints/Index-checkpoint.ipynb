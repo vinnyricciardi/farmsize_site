{
 "cells": [
  {
   "cell_type": "markdown",
   "metadata": {
    "deletable": true,
    "editable": true
   },
   "source": [
    "Index\n",
    "\n",
    "[Project Overview](https://vinnyricciardi.github.io/farmsize_site/Html/Project_Overview)<br>\n",
    "[Data Coverage](https://vinnyricciardi.github.io/farmsize_site/Html/Data_Coverage)<br>\n",
    "[General Results](https://vinnyricciardi.github.io/farmsize_site/Html/General_Results)<br>\n"
   ]
  },
  {
   "cell_type": "markdown",
   "metadata": {
    "collapsed": true,
    "deletable": true,
    "editable": true
   },
   "source": [
    "<a name=\"LeftOff\"></a>"
   ]
  },
  {
   "cell_type": "markdown",
   "metadata": {
    "deletable": true,
    "editable": true
   },
   "source": [
    "<a name=\"LeftOff\"></a>"
   ]
  }
 ],
 "metadata": {
  "kernelspec": {
   "display_name": "virtualenvironment",
   "language": "python",
   "name": "virtualenvironment"
  },
  "language_info": {
   "codemirror_mode": {
    "name": "ipython",
    "version": 2
   },
   "file_extension": ".py",
   "mimetype": "text/x-python",
   "name": "python",
   "nbconvert_exporter": "python",
   "pygments_lexer": "ipython2",
   "version": "2.7.10"
  }
 },
 "nbformat": 4,
 "nbformat_minor": 0
}
