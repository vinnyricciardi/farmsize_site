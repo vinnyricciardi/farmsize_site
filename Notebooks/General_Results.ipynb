{
 "cells": [
  {
   "cell_type": "code",
   "execution_count": 16,
   "metadata": {
    "collapsed": false,
    "deletable": true,
    "editable": true,
    "scrolled": true
   },
   "outputs": [
    {
     "data": {
      "text/html": [
       "<script>\n",
       "code_show=true; \n",
       "function code_toggle() {\n",
       " if (code_show){\n",
       " $('div.input').hide();\n",
       " } else {\n",
       " $('div.input').show();\n",
       " }\n",
       " code_show = !code_show\n",
       "} \n",
       "$( document ).ready(code_toggle);\n",
       "</script>"
      ],
      "text/plain": [
       "<IPython.core.display.HTML object>"
      ]
     },
     "execution_count": 16,
     "metadata": {},
     "output_type": "execute_result"
    }
   ],
   "source": [
    "from IPython.display import HTML\n",
    "HTML('''<script>\n",
    "code_show=true; \n",
    "function code_toggle() {\n",
    " if (code_show){\n",
    " $('div.input').hide();\n",
    " } else {\n",
    " $('div.input').show();\n",
    " }\n",
    " code_show = !code_show\n",
    "} \n",
    "$( document ).ready(code_toggle);\n",
    "</script>''')"
   ]
  },
  {
   "cell_type": "code",
   "execution_count": 484,
   "metadata": {
    "code_folding": [],
    "collapsed": false,
    "deletable": true,
    "editable": true
   },
   "outputs": [
    {
     "data": {
      "text/html": [
       "\n",
       "<style>\n",
       "    .yourDiv {position: fixed;top: 100px; right: 0px; \n",
       "              background: white;\n",
       "              height: 100%;\n",
       "              width: 175px; \n",
       "              padding: 10px; \n",
       "              z-index: 10000}\n",
       "</style>\n",
       "<script>\n",
       "function showthis(url) {\n",
       "\twindow.open(url, \"pres\", \n",
       "                \"toolbar=yes,scrollbars=yes,resizable=yes,top=10,left=400,width=500,height=500\");\n",
       "\treturn(false);\n",
       "}\n",
       "</script>\n",
       "\n",
       "<div class=yourDiv>\n",
       "    <h4>MENU</h4><br>\n",
       "    <a href=#Data>1. Data</a><br>\n",
       "    <a href=#FoodFeedOtherAcross>2. Spatial Coverage</a><br>\n",
       "    <a href=#FoodFeedOtherWithin>3. Temporal Coverage</a><br><br>\n",
       "\n",
       "    <a href=\"javascript:code_toggle()\">Toggle Code On/Off</a><br>\n",
       "    <a href=#Top>Top</a><br>\n",
       "    <a href=#LeftOff>Left Off Here</a><br>\n",
       "</div>\n"
      ],
      "text/plain": [
       "<IPython.core.display.HTML object>"
      ]
     },
     "execution_count": 484,
     "metadata": {},
     "output_type": "execute_result"
    }
   ],
   "source": [
    "HTML('''\n",
    "<style>\n",
    "    .yourDiv {position: fixed;top: 100px; right: 0px; \n",
    "              background: white;\n",
    "              height: 100%;\n",
    "              width: 175px; \n",
    "              padding: 10px; \n",
    "              z-index: 10000}\n",
    "</style>\n",
    "<script>\n",
    "function showthis(url) {\n",
    "\twindow.open(url, \"pres\", \n",
    "                \"toolbar=yes,scrollbars=yes,resizable=yes,top=10,left=400,width=500,height=500\");\n",
    "\treturn(false);\n",
    "}\n",
    "</script>\n",
    "\n",
    "<div class=yourDiv>\n",
    "    <h4>MENU</h4><br>\n",
    "    <a href=#Data>1. Data</a><br>\n",
    "    <a href=#FoodFeedOtherAcross>2. Spatial Coverage</a><br>\n",
    "    <a href=#FoodFeedOtherWithin>3. Temporal Coverage</a><br><br>\n",
    "\n",
    "    <a href=\"javascript:code_toggle()\">Toggle Code On/Off</a><br>\n",
    "    <a href=#Top>Top</a><br>\n",
    "    <a href=#LeftOff>Left Off Here</a><br>\n",
    "</div>\n",
    "''')"
   ]
  },
  {
   "cell_type": "markdown",
   "metadata": {},
   "source": [
    "<a name=\"Top\"></a>\n",
    "<center>\n",
    "## General Results\n"
   ]
  },
  {
   "cell_type": "markdown",
   "metadata": {},
   "source": [
    "This page overviews our general results. \n",
    "\n",
    "The main findings are that in our sample of 58 countries, farms < 2 ha produce 8% of the total food supply, while farms < 50 ha produce 41% of the total food supply. The largest differences (in terms of effect size) in the amount of food produced were between the very large farm and the smallest farm categories in terms of how much food each produced. 68% of all the food came from 20 to 100 ha and 200 to 1000 ha farm sizes.\n",
    "\n",
    "This study also measures what percentage of each farm size class's crop producion goes towards food, feed, processing, seed, waste, or other. The farm size category with the largest percentage of food produced compared to other cateogories within thier farm size group, are from 100 to 1000 ha, where 70% of thier crop production goes towards food.\n",
    "\n",
    "55% of crop production on farms < 2 ha goes towards food, while 16% goes towards feed, and the remainder either goes towards other, waste, processing, or seed (respectively). \n",
    "\n",
    "The farm size contributing to the largest amount of food waste (post-harvest loss, not consumer based food waste) are farms between 50-100 ha."
   ]
  },
  {
   "cell_type": "code",
   "execution_count": 50,
   "metadata": {
    "collapsed": false,
    "deletable": true,
    "editable": true
   },
   "outputs": [],
   "source": [
    "import warnings\n",
    "warnings.filterwarnings('ignore')\n",
    "import seaborn as sns\n",
    "import pandas as pd\n",
    "import numpy as np\n",
    "import matplotlib.pyplot as plt\n",
    "from matplotlib import cm\n",
    "import copy\n",
    "import matplotlib.gridspec as gridspec\n",
    "from collections import OrderedDict\n",
    "from pivottablejs import pivot_ui  # python setup.py install --user\n",
    "%matplotlib inline\n"
   ]
  },
  {
   "cell_type": "code",
   "execution_count": 51,
   "metadata": {
    "collapsed": true,
    "deletable": true,
    "editable": true
   },
   "outputs": [],
   "source": [
    "def read_data(path):\n",
    "\n",
    "    data = pd.read_csv(path, low_memory=False)\n",
    "    data['Farm_Sizes'] = pd.cut(data['fs_class_max'],\n",
    "                                bins=[0, 1, 2, 5, 10, 20, 50,\n",
    "                                      100, 200, 500, 1000, 100000])\n",
    "    \n",
    "    global variables\n",
    "    variables = OrderedDict([('Farm_Sizes', 'Farm_Sizes'),\n",
    "                             ('production_Food_kcal', 'Food'),\n",
    "                             ('production_Feed_kcal', 'Feed'),\n",
    "                             ('production_Seed_kcal', 'Seed'),\n",
    "                             ('production_Waste_kcal', 'Waste'),\n",
    "                             ('production_Processing_kcal', 'Processing'),\n",
    "                             ('production_Other_kcal', 'Other')])\n",
    "\n",
    "    data = data.loc[:, variables.keys()]\n",
    "    data.columns = variables.values()\n",
    "\n",
    "    return data"
   ]
  },
  {
   "cell_type": "code",
   "execution_count": 52,
   "metadata": {
    "collapsed": true,
    "deletable": true,
    "editable": true
   },
   "outputs": [],
   "source": [
    "def piv(data, func=np.nansum):\n",
    "\n",
    "    pivot = pd.pivot_table(data,\n",
    "                           index=['Farm_Sizes'],\n",
    "                           values=variables.values()[1:],\n",
    "                           aggfunc=func)\n",
    "\n",
    "    return pivot"
   ]
  },
  {
   "cell_type": "code",
   "execution_count": 53,
   "metadata": {
    "collapsed": true,
    "deletable": true,
    "editable": true
   },
   "outputs": [],
   "source": [
    "def perc(data, how='within'):\n",
    "\n",
    "    if how is 'within':\n",
    "\n",
    "        pivot = piv(data)\n",
    "        pivot = pivot.transpose()\n",
    "\n",
    "        for variable in pivot.columns:\n",
    "            pivot[variable] = pivot[variable] / pivot[variable].sum()\n",
    "\n",
    "        return pivot.transpose()\n",
    "\n",
    "\n",
    "    elif how is 'cumsum':\n",
    "\n",
    "        pivot = piv(data)\n",
    "\n",
    "        for variable in pivot.columns:\n",
    "            pivot[variable] = pivot[variable] / pivot[variable].sum()\n",
    "\n",
    "        pivot = pivot.cumsum(axis=0)\n",
    "\n",
    "        return pivot\n",
    "\n",
    "\n",
    "    elif how is 'across':\n",
    "\n",
    "        pivot = piv(data)\n",
    "\n",
    "        for variable in pivot.columns:\n",
    "            pivot[variable] = pivot[variable] / pivot[variable].sum()\n",
    "\n",
    "        return pivot.transpose()\n",
    "\n",
    "    else:\n",
    "\n",
    "        print 'Require how argument'"
   ]
  },
  {
   "cell_type": "code",
   "execution_count": 480,
   "metadata": {
    "collapsed": false
   },
   "outputs": [
    {
     "data": {
      "text/html": [
       "<div>\n",
       "<table border=\"1\" class=\"dataframe\">\n",
       "  <thead>\n",
       "    <tr style=\"text-align: right;\">\n",
       "      <th></th>\n",
       "      <th>Feed</th>\n",
       "      <th>Food</th>\n",
       "      <th>Other</th>\n",
       "      <th>Processing</th>\n",
       "      <th>Seed</th>\n",
       "      <th>Waste</th>\n",
       "    </tr>\n",
       "    <tr>\n",
       "      <th>Farm_Sizes</th>\n",
       "      <th></th>\n",
       "      <th></th>\n",
       "      <th></th>\n",
       "      <th></th>\n",
       "      <th></th>\n",
       "      <th></th>\n",
       "    </tr>\n",
       "  </thead>\n",
       "  <tbody>\n",
       "    <tr>\n",
       "      <th>(0, 1]</th>\n",
       "      <td>0.237441</td>\n",
       "      <td>0.557491</td>\n",
       "      <td>0.116235</td>\n",
       "      <td>0.023644</td>\n",
       "      <td>0.016697</td>\n",
       "      <td>0.048493</td>\n",
       "    </tr>\n",
       "    <tr>\n",
       "      <th>(1, 2]</th>\n",
       "      <td>0.078022</td>\n",
       "      <td>0.528437</td>\n",
       "      <td>0.246586</td>\n",
       "      <td>0.069265</td>\n",
       "      <td>0.024367</td>\n",
       "      <td>0.053323</td>\n",
       "    </tr>\n",
       "    <tr>\n",
       "      <th>(2, 5]</th>\n",
       "      <td>0.188993</td>\n",
       "      <td>0.505486</td>\n",
       "      <td>0.151104</td>\n",
       "      <td>0.072839</td>\n",
       "      <td>0.030516</td>\n",
       "      <td>0.051062</td>\n",
       "    </tr>\n",
       "    <tr>\n",
       "      <th>(5, 10]</th>\n",
       "      <td>0.159973</td>\n",
       "      <td>0.484746</td>\n",
       "      <td>0.114886</td>\n",
       "      <td>0.150468</td>\n",
       "      <td>0.037205</td>\n",
       "      <td>0.052721</td>\n",
       "    </tr>\n",
       "    <tr>\n",
       "      <th>(10, 20]</th>\n",
       "      <td>0.159772</td>\n",
       "      <td>0.480801</td>\n",
       "      <td>0.073849</td>\n",
       "      <td>0.201936</td>\n",
       "      <td>0.035844</td>\n",
       "      <td>0.047798</td>\n",
       "    </tr>\n",
       "    <tr>\n",
       "      <th>(20, 50]</th>\n",
       "      <td>0.163737</td>\n",
       "      <td>0.459236</td>\n",
       "      <td>0.055698</td>\n",
       "      <td>0.249785</td>\n",
       "      <td>0.033665</td>\n",
       "      <td>0.037880</td>\n",
       "    </tr>\n",
       "    <tr>\n",
       "      <th>(50, 100]</th>\n",
       "      <td>0.152403</td>\n",
       "      <td>0.472618</td>\n",
       "      <td>0.055224</td>\n",
       "      <td>0.244229</td>\n",
       "      <td>0.033991</td>\n",
       "      <td>0.041535</td>\n",
       "    </tr>\n",
       "    <tr>\n",
       "      <th>(100, 200]</th>\n",
       "      <td>0.114567</td>\n",
       "      <td>0.643168</td>\n",
       "      <td>0.032773</td>\n",
       "      <td>0.106484</td>\n",
       "      <td>0.037614</td>\n",
       "      <td>0.065394</td>\n",
       "    </tr>\n",
       "    <tr>\n",
       "      <th>(200, 500]</th>\n",
       "      <td>0.119055</td>\n",
       "      <td>0.710868</td>\n",
       "      <td>0.016772</td>\n",
       "      <td>0.054654</td>\n",
       "      <td>0.055964</td>\n",
       "      <td>0.042686</td>\n",
       "    </tr>\n",
       "    <tr>\n",
       "      <th>(500, 1000]</th>\n",
       "      <td>0.119546</td>\n",
       "      <td>0.734189</td>\n",
       "      <td>0.011763</td>\n",
       "      <td>0.035401</td>\n",
       "      <td>0.060685</td>\n",
       "      <td>0.038415</td>\n",
       "    </tr>\n",
       "    <tr>\n",
       "      <th>(1000, 100000]</th>\n",
       "      <td>0.285615</td>\n",
       "      <td>0.279310</td>\n",
       "      <td>0.124086</td>\n",
       "      <td>0.201478</td>\n",
       "      <td>0.028329</td>\n",
       "      <td>0.081183</td>\n",
       "    </tr>\n",
       "  </tbody>\n",
       "</table>\n",
       "</div>"
      ],
      "text/plain": [
       "                    Feed      Food     Other  Processing      Seed     Waste\n",
       "Farm_Sizes                                                                  \n",
       "(0, 1]          0.237441  0.557491  0.116235    0.023644  0.016697  0.048493\n",
       "(1, 2]          0.078022  0.528437  0.246586    0.069265  0.024367  0.053323\n",
       "(2, 5]          0.188993  0.505486  0.151104    0.072839  0.030516  0.051062\n",
       "(5, 10]         0.159973  0.484746  0.114886    0.150468  0.037205  0.052721\n",
       "(10, 20]        0.159772  0.480801  0.073849    0.201936  0.035844  0.047798\n",
       "(20, 50]        0.163737  0.459236  0.055698    0.249785  0.033665  0.037880\n",
       "(50, 100]       0.152403  0.472618  0.055224    0.244229  0.033991  0.041535\n",
       "(100, 200]      0.114567  0.643168  0.032773    0.106484  0.037614  0.065394\n",
       "(200, 500]      0.119055  0.710868  0.016772    0.054654  0.055964  0.042686\n",
       "(500, 1000]     0.119546  0.734189  0.011763    0.035401  0.060685  0.038415\n",
       "(1000, 100000]  0.285615  0.279310  0.124086    0.201478  0.028329  0.081183"
      ]
     },
     "execution_count": 480,
     "metadata": {},
     "output_type": "execute_result"
    }
   ],
   "source": [
    "df_within"
   ]
  },
  {
   "cell_type": "code",
   "execution_count": 481,
   "metadata": {
    "collapsed": false,
    "deletable": true,
    "editable": true
   },
   "outputs": [],
   "source": [
    "def plot_stacked_bar(data, how='within', fig_=True, ax=None):\n",
    "\n",
    "    txt1 = ['Feed', 'Food', 'Other', 'Processing', 'Seed', 'Waste']\n",
    "    txt2 = ['< 1', '1 to 2', '2 to 5', '5 to 10', '10 to 20',\n",
    "            '20 to 50', '50 to 100', '100 to 200', '200 to 500',\n",
    "            '500 to 1000', '> 1000']\n",
    "    txt3 = ['< 1', '2 to 5', '10 to 20', '50 to 100', '200 to 500', '> 1000']\n",
    "\n",
    "    if how is 'within':\n",
    "\n",
    "        legend_txts = copy.copy(txt1)\n",
    "        labels_txts = copy.copy(txt2)\n",
    "        cmap = cm.get_cmap('Set3')\n",
    "        kind = 'bar'\n",
    "\n",
    "    elif how is 'across':\n",
    "\n",
    "        legend_txts = copy.copy(txt2)\n",
    "        labels_txts = copy.copy(txt1)\n",
    "        cmap = cm.get_cmap('YlGnBu')\n",
    "        kind = 'bar'\n",
    "\n",
    "    elif how is 'cumsum':\n",
    "\n",
    "        legend_txts = copy.copy(txt1)\n",
    "        labels_txts = copy.copy(txt3)\n",
    "        cmap = cm.get_cmap('Set3')\n",
    "        kind = 'area'\n",
    "    \n",
    "    else:\n",
    "        pass\n",
    "    \n",
    "    if fig_ is True:\n",
    "        \n",
    "        fig = plt.figure(figsize=[10, 5], facecolor='white')\n",
    "        ax = fig.add_subplot(111)\n",
    "    \n",
    "    else:\n",
    "        pass\n",
    "\n",
    "    data.plot(kind=kind,\n",
    "              stacked=True,\n",
    "              cmap=cmap,\n",
    "              alpha=0.9,\n",
    "              linewidth=0,\n",
    "              grid=False,\n",
    "              ax=ax)\n",
    "    \n",
    "    # Axis main\n",
    "    ax.set_axis_bgcolor(\"#d6d7e5\")\n",
    "    ax.set_clip_on(False)\n",
    "    box = ax.get_position()\n",
    "    ax.set_position([box.x0, box.y0, box.width * 0.8, box.height])\n",
    "\n",
    "    # Legend\n",
    "    legend_txts_r = copy.deepcopy(legend_txts)\n",
    "    legend_txts_r.reverse()\n",
    "    handles, labels = ax.get_legend_handles_labels()\n",
    "    legend = ax.legend(handles[::-1], labels[::-1],\n",
    "                       loc='center left',\n",
    "                       frameon=1,\n",
    "                       bbox_to_anchor=(1, 0.5))\n",
    "\n",
    "    for i in xrange(len(legend_txts_r)):\n",
    "        legend.get_texts()[i].set_text(legend_txts_r[i])\n",
    "\n",
    "    frame = legend.get_frame()\n",
    "    frame.set_color('white')\n",
    "\n",
    "    # Axis particulars\n",
    "    ax.set_xticklabels(labels_txts)\n",
    "    ax.set_xticklabels(ax.xaxis.get_majorticklabels(), rotation=45)\n",
    "\n",
    "    if how is 'within':\n",
    "        ax.set_xlabel('Farm Sizes (ha)')\n",
    "        ax.set_ylabel('Percentage\\n')\n",
    "        ax.set_ylim([0, 1])\n",
    "        ax.set_title('Type of production per farm size\\n', fontsize=12)\n",
    "\n",
    "    elif how is 'across':\n",
    "        ax.set_xlabel('Category')\n",
    "        ax.set_ylabel('Percentage\\n')\n",
    "        ax.set_ylim([0, 1])\n",
    "        ax.set_title('Type of production across farm size\\n', fontsize=12)\n",
    "        \n",
    "    elif how is 'cumsum':\n",
    "        ax.set_xlabel('Farm Sizes (ha)')\n",
    "        ax.set_ylabel('Percentage\\n')\n",
    "        ax.set_title('Type of production per farm size: Cumulative\\n', fontsize=12)\n",
    "\n",
    "    if fig_ is True:\n",
    "        return plt.show()\n",
    "\n",
    "    else:\n",
    "        return ax\n"
   ]
  },
  {
   "cell_type": "code",
   "execution_count": 55,
   "metadata": {
    "collapsed": false,
    "deletable": true,
    "editable": true
   },
   "outputs": [],
   "source": [
    "PATH = '/Users/Vinny_Ricciardi/Documents/Data_Library_Big/Survey/Global/Farm_Size/Data/FarmSize_data_fullyProcessed.csv'\n",
    "df = read_data(PATH)"
   ]
  },
  {
   "cell_type": "code",
   "execution_count": 466,
   "metadata": {
    "collapsed": false,
    "deletable": true,
    "editable": true
   },
   "outputs": [],
   "source": [
    "df_within = perc(df, how='within')\n",
    "df_across = perc(df, how='across')\n",
    "df_cumsum = perc(df, how='cumsum')\n",
    "df_raw = piv(df)"
   ]
  },
  {
   "cell_type": "code",
   "execution_count": 467,
   "metadata": {
    "collapsed": false,
    "deletable": true,
    "editable": true
   },
   "outputs": [],
   "source": [
    "tmp1 = df_within.copy()\n",
    "tmp1['Type'] = 'Within'\n",
    "\n",
    "tmp2 = df_across.copy()\n",
    "tmp2 = tmp2.transpose()\n",
    "tmp2['Type'] = 'Across'\n",
    "\n",
    "tmp3 = df_cumsum.copy()\n",
    "tmp3['Type'] = 'Cumsum'\n",
    "\n",
    "tmp4 = df_raw.copy()\n",
    "tmp4['Type'] = 'Raw'\n",
    "\n",
    "tmp = pd.concat([tmp1, tmp2, tmp3, tmp4])\n",
    "tmp = tmp.reset_index()\n",
    "tmp['Farm_Sizes'] = tmp['Farm_Sizes'].str.replace('(', '')\n",
    "tmp['Farm_Sizes'] = tmp['Farm_Sizes'].str.replace(']', '')"
   ]
  },
  {
   "cell_type": "markdown",
   "metadata": {
    "deletable": true,
    "editable": true
   },
   "source": [
    "<a name=\"Data\"></a>\n",
    "<h2>Data</h2><br>\n",
    "\n",
    "Here is a [link](https://vinnyricciardi.github.io/farmsize_site/Html/pivottablejs) to an interactive pivot table so you can explore the data. Use 'type' to change whether you are looking at the percentage of crop produced for each category 'within' a farm size group, 'across' groups, via a 'cumulative' percentage across groups, or raw kcal produced. Use the dropdown labeled 'Food' to recalculate based on another production category. \n",
    "\n",
    "The default setting shows a heatmap for which farm size classes have the highest food production (kcal/person) per category. The 500 to 1000 farm size class makes up 52% of all food production in our dataset, which accounts for 73% of this group's total crop production.\n",
    "\n",
    "The three charts below were derived from the pivot table."
   ]
  },
  {
   "cell_type": "code",
   "execution_count": 58,
   "metadata": {
    "collapsed": false,
    "deletable": true,
    "editable": true
   },
   "outputs": [],
   "source": [
    "# pivot_ui(tmp)  # Enable for pivot table interactivitity within this Jupyter notebook"
   ]
  },
  {
   "cell_type": "markdown",
   "metadata": {
    "deletable": true,
    "editable": true
   },
   "source": [
    "<a name=\"FoodFeedOtherAcross\"></a>\n",
    "<h2>Food Feed Other by Farm Size</h2><br>\n",
    "\n",
    "This plot shows the percentage that each farm size contributes to each category (e.g., food, feed, other, etc.) For example, farms under 1 ha produce 5% of the total food supply in our sample."
   ]
  },
  {
   "cell_type": "code",
   "execution_count": 482,
   "metadata": {
    "collapsed": false,
    "deletable": true,
    "editable": true
   },
   "outputs": [
    {
     "data": {
      "image/png": "[encoded data removed]",
      "text/plain": [
       "<matplotlib.figure.Figure at 0x10d845410>"
      ]
     },
     "metadata": {},
     "output_type": "display_data"
    }
   ],
   "source": [
    "plot_stacked_bar(df_across, how='across', fig_=True)"
   ]
  },
  {
   "cell_type": "markdown",
   "metadata": {
    "deletable": true,
    "editable": true
   },
   "source": [
    "This plot also shows the percentage that each farm size contributes to each category but in cumulative percentages. For example, farms under 2 ha produce 8% of the total food supply in our sample and farms 20 ha and under produce 48% of the total food supply in our sample. Again, here is a [link](https://vinnyricciardi.github.io/farmsize_site/Html/pivottablejs) to an interactive pivot table so you can explore the data in more detail."
   ]
  },
  {
   "cell_type": "code",
   "execution_count": 478,
   "metadata": {
    "collapsed": false,
    "deletable": true,
    "editable": true
   },
   "outputs": [
    {
     "data": {
      "image/png": "[encoded data removed]",
      "text/plain": [
       "<matplotlib.figure.Figure at 0x10b407810>"
      ]
     },
     "metadata": {},
     "output_type": "display_data"
    }
   ],
   "source": [
    "plot_stacked_bar(df_cumsum, how='cumsum', fig_=True)"
   ]
  },
  {
   "cell_type": "code",
   "execution_count": 452,
   "metadata": {
    "code_folding": [],
    "collapsed": false,
    "deletable": true,
    "editable": true
   },
   "outputs": [],
   "source": [
    "def factor_plot(data, id_var='Farm_Sizes'):\n",
    "    \n",
    "    data = pd.melt(data, id_vars='Farm_Sizes')\n",
    "    data = data.loc[data['value'] > 0.5] \n",
    "    data['log'] = np.log(data['value'])\n",
    "    \n",
    "    fs_order = ['(0, 1]', '(1, 2]', '(2, 5]', '(5, 10]', \n",
    "                '(10, 20]', '(20, 50]', '(50, 100]', '(100, 200]', '(200, 500]',\n",
    "                '(500, 1000]', '(1000, 100000]']\n",
    "    \n",
    "    if id_var is 'Farm_Sizes':\n",
    "        \n",
    "        col = 'variable'\n",
    "        x = 'Farm_Sizes'\n",
    "        y = 'log'\n",
    "        order = fs_order\n",
    "\n",
    "    else:\n",
    "        \n",
    "        data = data.sort('Farm_Sizes')\n",
    "        data['Farm_Sizes'] = pd.Categorical(data['Farm_Sizes'], fs_order)\n",
    "        data = data.sort('Farm_Sizes')\n",
    "        col = 'Farm_Sizes'\n",
    "        x = 'variable'\n",
    "        y = 'log'\n",
    "        order = None\n",
    "\n",
    "    g = sns.factorplot(x=x, y=y,\n",
    "                       col=col, \n",
    "                       data=data,\n",
    "                       kind='box',\n",
    "                       col_wrap=2,\n",
    "                       color='#55a868',\n",
    "                       fliersize=1,\n",
    "                       aspect = 1.5,\n",
    "                       order=order)\n",
    "\n",
    "    g.fig.subplots_adjust(wspace=0.2, hspace=0.3)\n",
    "\n",
    "    titles = data.variable.unique()\n",
    "    \n",
    "    fs_txt = ['< 1', '1 to 2', '2 to 5', '5 to 10', '10 to 20',\n",
    "              '20 to 50', '50 to 100', '100 to 200', '200 to 500',\n",
    "              '500 to 1000', '> 1000']\n",
    "    \n",
    "    if id_var is 'Farm_Sizes':\n",
    "        \n",
    "        for ax, title in zip(g.axes.flat, titles):\n",
    "            \n",
    "            ax.set_title(title)\n",
    "            ax.set_ylabel('Production \\n ln (kcal)')\n",
    "            ax.set_xticklabels(fs_txt)\n",
    "            ax.set_xticklabels(ax.xaxis.get_majorticklabels(), rotation=45)\n",
    "            ax.set_xlabel('\\nFarm Sizes (ha)')\n",
    "        \n",
    "    else:\n",
    "        \n",
    "        for ax, title in zip(g.axes.flat, fs_txt):\n",
    "            \n",
    "            ax.set_title(title)\n",
    "            ax.set_ylabel('Production \\n ln (kcal)')\n",
    "            ax.set_xticklabels(ax.xaxis.get_majorticklabels(), rotation=45)\n",
    "            ax.set_xlabel('\\nPoduction Category')\n"
   ]
  },
  {
   "cell_type": "code",
   "execution_count": 92,
   "metadata": {
    "collapsed": false,
    "deletable": true,
    "editable": true
   },
   "outputs": [],
   "source": [
    "number_of_records = len(df)"
   ]
  },
  {
   "cell_type": "markdown",
   "metadata": {
    "deletable": true,
    "editable": true,
    "variables": {
     "number_of_records": "564134"
    }
   },
   "source": [
    "In order to better understand whether there are differences between the farm size groups, these boxplots show the total amount of crops produced (in logged kcal for standardization). Across all production categories (e.g., food, feed, other, etc.) there are no visual differences in the means and confidence intervals. But, there are (a) a lot of outliers in each plot that indicate high variance, and (b) since our sample is very large (58 countries which comprise of {{number_of_records}} total records due to subnational units and crop types) we cannot use p-values to determine significance."
   ]
  },
  {
   "cell_type": "code",
   "execution_count": 424,
   "metadata": {
    "collapsed": false,
    "deletable": true,
    "editable": true
   },
   "outputs": [
    {
     "data": {
      "image/png": "[encoded data removed]",
      "text/plain": [
       "<matplotlib.figure.Figure at 0x112dfdcd0>"
      ]
     },
     "metadata": {},
     "output_type": "display_data"
    }
   ],
   "source": [
    "factor_plot(df, id_var='Farm_Sizes')"
   ]
  },
  {
   "cell_type": "markdown",
   "metadata": {
    "collapsed": false,
    "deletable": true,
    "editable": true
   },
   "source": [
    "To circumvent the large dataset issue, the effect size was used to determine differences between farm sizes rather than statistical significance. Cohen's d was calculated via taking the (mean of farmsize 1 - mean of farmsize 2) / (standard deviation of farmsize 1) then taking the absolute value. The relative significance was calculated by thresholds according to [Sullivan and Feinn 2012](https://www.ncbi.nlm.nih.gov/pmc/articles/PMC3444174/).\n",
    "\n",
    "Where the Cohen d's effect size values correspond to percent non-overlapping observations, as in:\n",
    "\n",
    "| Relative Size \t| Effect Size \t| Percentile \t| % of Non- overlap \t|\n",
    "|---------------\t|:-------------:|:-----------:\t|:-------------------:\t|\n",
    "|               \t|      0      \t|     50    \t|         0         \t|\n",
    "| Small         \t|     0.2     \t|     58    \t|         15        \t|\n",
    "| Medium        \t|     0.5     \t|     69    \t|         33        \t|\n",
    "| Large         \t|     0.8     \t|     79    \t|         47        \t|\n",
    "|               \t|     1.0     \t|     84    \t|         55        \t|\n",
    "|               \t|     1.5     \t|     93    \t|         71        \t|\n",
    "|               \t|     2.0     \t|     97    \t|         81        \t|"
   ]
  },
  {
   "cell_type": "code",
   "execution_count": 418,
   "metadata": {
    "collapsed": false
   },
   "outputs": [],
   "source": [
    "def cohens_d(data1, data2, how='within'):\n",
    "\n",
    "    cols = data1.columns\n",
    "    check = []\n",
    "    \n",
    "    for i in xrange(0, len(cols)):\n",
    "        \n",
    "        for j in xrange(1, len(cols)):\n",
    "            \n",
    "            col_name = str(cols[i]) + '_' + str(cols[j])\n",
    "            col_name_r = str(cols[j]) + '_' + str(cols[i])\n",
    "\n",
    "            if col_name in check:\n",
    "                \n",
    "                pass\n",
    "\n",
    "            elif cols[i] is cols[j]:\n",
    "                \n",
    "                pass\n",
    "\n",
    "            else:\n",
    "                \n",
    "                data1[col_name] = ((data1[cols[i]] - data1[cols[j]]) / data2[cols[i]]).abs()\n",
    "                check.append(col_name)\n",
    "                check.append(col_name_r)\n",
    "\n",
    "    data = data1.iloc[:, len(cols):]\n",
    "\n",
    "    data = data.reset_index()\n",
    "\n",
    "    if how is 'within':\n",
    "        \n",
    "        data = pd.melt(data, id_vars='Farm_Sizes', value_name='cohens_d')\n",
    "\n",
    "    else:\n",
    "        \n",
    "        data = pd.melt(data, id_vars='index', value_name='cohens_d')\n",
    "        \n",
    "    data['cohens_d_level'] = np.where(data['cohens_d'] <= 0.2, 'small',\n",
    "                                      np.where(data['cohens_d'] >= 0.8, 'large',\n",
    "                                               'medium'))\n",
    "\n",
    "    return data"
   ]
  },
  {
   "cell_type": "markdown",
   "metadata": {},
   "source": [
    "Here are the results:"
   ]
  },
  {
   "cell_type": "code",
   "execution_count": 436,
   "metadata": {
    "collapsed": false
   },
   "outputs": [
    {
     "data": {
      "text/html": [
       "<div>\n",
       "<table border=\"1\" class=\"dataframe\">\n",
       "  <thead>\n",
       "    <tr style=\"text-align: right;\">\n",
       "      <th></th>\n",
       "      <th>Category</th>\n",
       "      <th>Farm sizes compared</th>\n",
       "      <th>Cohens d</th>\n",
       "      <th>Relative effect size</th>\n",
       "    </tr>\n",
       "  </thead>\n",
       "  <tbody>\n",
       "    <tr>\n",
       "      <th>109</th>\n",
       "      <td>Food</td>\n",
       "      <td>(1, 2) and (500, 1000)</td>\n",
       "      <td>0.848607</td>\n",
       "      <td>large</td>\n",
       "    </tr>\n",
       "    <tr>\n",
       "      <th>157</th>\n",
       "      <td>Food</td>\n",
       "      <td>(10, 20) and (500, 1000)</td>\n",
       "      <td>0.879428</td>\n",
       "      <td>large</td>\n",
       "    </tr>\n",
       "    <tr>\n",
       "      <th>94</th>\n",
       "      <td>Seed</td>\n",
       "      <td>(1, 2) and (200, 500)</td>\n",
       "      <td>0.911315</td>\n",
       "      <td>large</td>\n",
       "    </tr>\n",
       "    <tr>\n",
       "      <th>57</th>\n",
       "      <td>Processing</td>\n",
       "      <td>(0, 1) and (500, 1000)</td>\n",
       "      <td>0.987951</td>\n",
       "      <td>large</td>\n",
       "    </tr>\n",
       "    <tr>\n",
       "      <th>239</th>\n",
       "      <td>Waste</td>\n",
       "      <td>(1000, 100000) and (500, 1000)</td>\n",
       "      <td>1.111736</td>\n",
       "      <td>large</td>\n",
       "    </tr>\n",
       "    <tr>\n",
       "      <th>292</th>\n",
       "      <td>Seed</td>\n",
       "      <td>(20, 50) and (500, 1000)</td>\n",
       "      <td>1.119664</td>\n",
       "      <td>large</td>\n",
       "    </tr>\n",
       "    <tr>\n",
       "      <th>160</th>\n",
       "      <td>Seed</td>\n",
       "      <td>(10, 20) and (500, 1000)</td>\n",
       "      <td>1.220897</td>\n",
       "      <td>large</td>\n",
       "    </tr>\n",
       "    <tr>\n",
       "      <th>58</th>\n",
       "      <td>Seed</td>\n",
       "      <td>(0, 1) and (500, 1000)</td>\n",
       "      <td>1.415773</td>\n",
       "      <td>large</td>\n",
       "    </tr>\n",
       "    <tr>\n",
       "      <th>108</th>\n",
       "      <td>Feed</td>\n",
       "      <td>(1, 2) and (500, 1000)</td>\n",
       "      <td>1.433436</td>\n",
       "      <td>large</td>\n",
       "    </tr>\n",
       "    <tr>\n",
       "      <th>51</th>\n",
       "      <td>Processing</td>\n",
       "      <td>(0, 1) and (50, 100)</td>\n",
       "      <td>1.441876</td>\n",
       "      <td>large</td>\n",
       "    </tr>\n",
       "    <tr>\n",
       "      <th>319</th>\n",
       "      <td>Food</td>\n",
       "      <td>(5, 10) and (500, 1000)</td>\n",
       "      <td>1.622606</td>\n",
       "      <td>large</td>\n",
       "    </tr>\n",
       "    <tr>\n",
       "      <th>268</th>\n",
       "      <td>Seed</td>\n",
       "      <td>(2, 5) and (500, 1000)</td>\n",
       "      <td>1.692324</td>\n",
       "      <td>large</td>\n",
       "    </tr>\n",
       "    <tr>\n",
       "      <th>220</th>\n",
       "      <td>Seed</td>\n",
       "      <td>(1000, 100000) and (200, 500)</td>\n",
       "      <td>1.750565</td>\n",
       "      <td>large</td>\n",
       "    </tr>\n",
       "    <tr>\n",
       "      <th>112</th>\n",
       "      <td>Seed</td>\n",
       "      <td>(1, 2) and (500, 1000)</td>\n",
       "      <td>2.004887</td>\n",
       "      <td>large</td>\n",
       "    </tr>\n",
       "    <tr>\n",
       "      <th>322</th>\n",
       "      <td>Seed</td>\n",
       "      <td>(5, 10) and (500, 1000)</td>\n",
       "      <td>2.092567</td>\n",
       "      <td>large</td>\n",
       "    </tr>\n",
       "    <tr>\n",
       "      <th>217</th>\n",
       "      <td>Food</td>\n",
       "      <td>(1000, 100000) and (200, 500)</td>\n",
       "      <td>2.107617</td>\n",
       "      <td>large</td>\n",
       "    </tr>\n",
       "    <tr>\n",
       "      <th>238</th>\n",
       "      <td>Seed</td>\n",
       "      <td>(1000, 100000) and (500, 1000)</td>\n",
       "      <td>3.869504</td>\n",
       "      <td>large</td>\n",
       "    </tr>\n",
       "    <tr>\n",
       "      <th>235</th>\n",
       "      <td>Food</td>\n",
       "      <td>(1000, 100000) and (500, 1000)</td>\n",
       "      <td>4.411742</td>\n",
       "      <td>large</td>\n",
       "    </tr>\n",
       "  </tbody>\n",
       "</table>\n",
       "</div>"
      ],
      "text/plain": [
       "       Category             Farm sizes compared  Cohens d Relative effect size\n",
       "109        Food          (1, 2) and (500, 1000)  0.848607                large\n",
       "157        Food        (10, 20) and (500, 1000)  0.879428                large\n",
       "94         Seed           (1, 2) and (200, 500)  0.911315                large\n",
       "57   Processing          (0, 1) and (500, 1000)  0.987951                large\n",
       "239       Waste  (1000, 100000) and (500, 1000)  1.111736                large\n",
       "292        Seed        (20, 50) and (500, 1000)  1.119664                large\n",
       "160        Seed        (10, 20) and (500, 1000)  1.220897                large\n",
       "58         Seed          (0, 1) and (500, 1000)  1.415773                large\n",
       "108        Feed          (1, 2) and (500, 1000)  1.433436                large\n",
       "51   Processing            (0, 1) and (50, 100)  1.441876                large\n",
       "319        Food         (5, 10) and (500, 1000)  1.622606                large\n",
       "268        Seed          (2, 5) and (500, 1000)  1.692324                large\n",
       "220        Seed   (1000, 100000) and (200, 500)  1.750565                large\n",
       "112        Seed          (1, 2) and (500, 1000)  2.004887                large\n",
       "322        Seed         (5, 10) and (500, 1000)  2.092567                large\n",
       "217        Food   (1000, 100000) and (200, 500)  2.107617                large\n",
       "238        Seed  (1000, 100000) and (500, 1000)  3.869504                large\n",
       "235        Food  (1000, 100000) and (500, 1000)  4.411742                large"
      ]
     },
     "execution_count": 436,
     "metadata": {},
     "output_type": "execute_result"
    }
   ],
   "source": [
    "data = df.copy()\n",
    "data['Farm_Sizes'] = data['Farm_Sizes'].astype(str)\n",
    "means = pd.pivot_table(data, columns='Farm_Sizes', aggfunc=np.nanmean)\n",
    "sds = pd.pivot_table(data, columns='Farm_Sizes', aggfunc=np.nanstd)\n",
    "out = cohens_d(means, sds, how='across')\n",
    "out = out.loc[out['cohens_d_level'] == 'large']\n",
    "out['Farm_Sizes'] = out['Farm_Sizes'].str.replace(']', ')')\n",
    "out['Farm_Sizes'] = out['Farm_Sizes'].str.replace('_', ' and ')\n",
    "out.columns = ['Category', 'Farm sizes compared', 'Cohens d', 'Relative effect size']\n",
    "out.sort('Cohens d')"
   ]
  },
  {
   "cell_type": "code",
   "execution_count": 450,
   "metadata": {
    "collapsed": false
   },
   "outputs": [
    {
     "data": {
      "text/html": [
       "<div>\n",
       "<table border=\"1\" class=\"dataframe\">\n",
       "  <thead>\n",
       "    <tr style=\"text-align: right;\">\n",
       "      <th></th>\n",
       "      <th>Farm sizes compared</th>\n",
       "      <th>Count of large effect size</th>\n",
       "    </tr>\n",
       "  </thead>\n",
       "  <tbody>\n",
       "    <tr>\n",
       "      <th>0</th>\n",
       "      <td>(0, 1) and (50, 100)</td>\n",
       "      <td>1</td>\n",
       "    </tr>\n",
       "    <tr>\n",
       "      <th>1</th>\n",
       "      <td>(1, 2) and (200, 500)</td>\n",
       "      <td>1</td>\n",
       "    </tr>\n",
       "    <tr>\n",
       "      <th>2</th>\n",
       "      <td>(2, 5) and (500, 1000)</td>\n",
       "      <td>1</td>\n",
       "    </tr>\n",
       "    <tr>\n",
       "      <th>3</th>\n",
       "      <td>(20, 50) and (500, 1000)</td>\n",
       "      <td>1</td>\n",
       "    </tr>\n",
       "    <tr>\n",
       "      <th>4</th>\n",
       "      <td>(0, 1) and (500, 1000)</td>\n",
       "      <td>2</td>\n",
       "    </tr>\n",
       "    <tr>\n",
       "      <th>5</th>\n",
       "      <td>(10, 20) and (500, 1000)</td>\n",
       "      <td>2</td>\n",
       "    </tr>\n",
       "    <tr>\n",
       "      <th>6</th>\n",
       "      <td>(1000, 100000) and (200, 500)</td>\n",
       "      <td>2</td>\n",
       "    </tr>\n",
       "    <tr>\n",
       "      <th>7</th>\n",
       "      <td>(5, 10) and (500, 1000)</td>\n",
       "      <td>2</td>\n",
       "    </tr>\n",
       "    <tr>\n",
       "      <th>8</th>\n",
       "      <td>(1, 2) and (500, 1000)</td>\n",
       "      <td>3</td>\n",
       "    </tr>\n",
       "    <tr>\n",
       "      <th>9</th>\n",
       "      <td>(1000, 100000) and (500, 1000)</td>\n",
       "      <td>3</td>\n",
       "    </tr>\n",
       "  </tbody>\n",
       "</table>\n",
       "</div>"
      ],
      "text/plain": [
       "              Farm sizes compared  Count of large effect size\n",
       "0            (0, 1) and (50, 100)                           1\n",
       "1           (1, 2) and (200, 500)                           1\n",
       "2          (2, 5) and (500, 1000)                           1\n",
       "3        (20, 50) and (500, 1000)                           1\n",
       "4          (0, 1) and (500, 1000)                           2\n",
       "5        (10, 20) and (500, 1000)                           2\n",
       "6   (1000, 100000) and (200, 500)                           2\n",
       "7         (5, 10) and (500, 1000)                           2\n",
       "8          (1, 2) and (500, 1000)                           3\n",
       "9  (1000, 100000) and (500, 1000)                           3"
      ]
     },
     "execution_count": 450,
     "metadata": {},
     "output_type": "execute_result"
    }
   ],
   "source": [
    "tmp = pd.DataFrame(pd.pivot_table(out, index='Farm sizes compared', aggfunc='count').max(axis=1)).sort(0)\n",
    "tmp = tmp.reset_index()\n",
    "tmp.columns = ['Farm sizes compared', 'Count of large effect size']\n",
    "tmp"
   ]
  },
  {
   "cell_type": "code",
   "execution_count": 451,
   "metadata": {
    "collapsed": false
   },
   "outputs": [
    {
     "data": {
      "text/html": [
       "<div>\n",
       "<table border=\"1\" class=\"dataframe\">\n",
       "  <thead>\n",
       "    <tr style=\"text-align: right;\">\n",
       "      <th></th>\n",
       "      <th>Category</th>\n",
       "      <th>Count of large effect size</th>\n",
       "    </tr>\n",
       "  </thead>\n",
       "  <tbody>\n",
       "    <tr>\n",
       "      <th>0</th>\n",
       "      <td>Feed</td>\n",
       "      <td>1</td>\n",
       "    </tr>\n",
       "    <tr>\n",
       "      <th>1</th>\n",
       "      <td>Waste</td>\n",
       "      <td>1</td>\n",
       "    </tr>\n",
       "    <tr>\n",
       "      <th>2</th>\n",
       "      <td>Processing</td>\n",
       "      <td>2</td>\n",
       "    </tr>\n",
       "    <tr>\n",
       "      <th>3</th>\n",
       "      <td>Food</td>\n",
       "      <td>5</td>\n",
       "    </tr>\n",
       "    <tr>\n",
       "      <th>4</th>\n",
       "      <td>Seed</td>\n",
       "      <td>9</td>\n",
       "    </tr>\n",
       "  </tbody>\n",
       "</table>\n",
       "</div>"
      ],
      "text/plain": [
       "     Category  Count of large effect size\n",
       "0        Feed                           1\n",
       "1       Waste                           1\n",
       "2  Processing                           2\n",
       "3        Food                           5\n",
       "4        Seed                           9"
      ]
     },
     "execution_count": 451,
     "metadata": {},
     "output_type": "execute_result"
    }
   ],
   "source": [
    "tmp = pd.DataFrame(pd.pivot_table(out, index='Category', aggfunc='count').max(axis=1)).sort(0)\n",
    "tmp = tmp.reset_index()\n",
    "tmp.columns = ['Category', 'Count of large effect size']\n",
    "tmp"
   ]
  },
  {
   "cell_type": "markdown",
   "metadata": {},
   "source": [
    "From this we can see that there was the most differences between the (1, 2) and (500, 1000) farm size classes and (1000, 100000) and (500, 1000) farm size classes. For all farm size classes, the majority of differences were in the amount of seed and food production."
   ]
  },
  {
   "cell_type": "markdown",
   "metadata": {
    "deletable": true,
    "editable": true
   },
   "source": [
    "<a name=\"FoodFeedOtherWithin\"></a>\n",
    "<h2>Food Feed Other within Farm Size Groups</h2><br>\n",
    "\n",
    "This plot shows the percentage of Food, Feed, Seed, Waste, Processing, and Other for each farm size category. For example, 56% of crop production for  farms under 1 ha is food, while 6% of their crop production is waste."
   ]
  },
  {
   "cell_type": "code",
   "execution_count": 479,
   "metadata": {
    "collapsed": false,
    "deletable": true,
    "editable": true
   },
   "outputs": [
    {
     "data": {
      "image/png": "[encoded data removed]",
      "text/plain": [
       "<matplotlib.figure.Figure at 0x11bee7590>"
      ]
     },
     "metadata": {},
     "output_type": "display_data"
    }
   ],
   "source": [
    "plot_stacked_bar(df_within, how='within', fig_=True)"
   ]
  },
  {
   "cell_type": "markdown",
   "metadata": {},
   "source": [
    "These plots compare crop production within each farm size class:"
   ]
  },
  {
   "cell_type": "code",
   "execution_count": 453,
   "metadata": {
    "collapsed": false
   },
   "outputs": [
    {
     "data": {
      "image/png": "[encoded data removed]",
      "text/plain": [
       "<matplotlib.figure.Figure at 0x10b354910>"
      ]
     },
     "metadata": {},
     "output_type": "display_data"
    }
   ],
   "source": [
    "factor_plot(df, id_var='variable')"
   ]
  },
  {
   "cell_type": "markdown",
   "metadata": {},
   "source": [
    "We calculate the effect size for the differences within each farm size group, but across production cateogries (e.g., food, feed, other).\n",
    "There were only medium differences in effect size when looking at how each farm size group allocated their production."
   ]
  },
  {
   "cell_type": "code",
   "execution_count": 457,
   "metadata": {
    "collapsed": false
   },
   "outputs": [
    {
     "data": {
      "text/html": [
       "<div>\n",
       "<table border=\"1\" class=\"dataframe\">\n",
       "  <thead>\n",
       "    <tr style=\"text-align: right;\">\n",
       "      <th></th>\n",
       "      <th>Farm sizes</th>\n",
       "      <th>Categories commpared</th>\n",
       "      <th>Cohens d</th>\n",
       "      <th>Relative effect size</th>\n",
       "    </tr>\n",
       "  </thead>\n",
       "  <tbody>\n",
       "    <tr>\n",
       "      <th>1</th>\n",
       "      <td>(1, 2)</td>\n",
       "      <td>Feed and Food</td>\n",
       "      <td>0.200763</td>\n",
       "      <td>medium</td>\n",
       "    </tr>\n",
       "    <tr>\n",
       "      <th>7</th>\n",
       "      <td>(100, 200)</td>\n",
       "      <td>Feed and Food</td>\n",
       "      <td>0.236428</td>\n",
       "      <td>medium</td>\n",
       "    </tr>\n",
       "    <tr>\n",
       "      <th>8</th>\n",
       "      <td>(200, 500)</td>\n",
       "      <td>Feed and Food</td>\n",
       "      <td>0.263749</td>\n",
       "      <td>medium</td>\n",
       "    </tr>\n",
       "    <tr>\n",
       "      <th>9</th>\n",
       "      <td>(500, 1000)</td>\n",
       "      <td>Feed and Food</td>\n",
       "      <td>0.266787</td>\n",
       "      <td>medium</td>\n",
       "    </tr>\n",
       "  </tbody>\n",
       "</table>\n",
       "</div>"
      ],
      "text/plain": [
       "    Farm sizes Categories commpared  Cohens d Relative effect size\n",
       "1       (1, 2)        Feed and Food  0.200763               medium\n",
       "7   (100, 200)        Feed and Food  0.236428               medium\n",
       "8   (200, 500)        Feed and Food  0.263749               medium\n",
       "9  (500, 1000)        Feed and Food  0.266787               medium"
      ]
     },
     "execution_count": 457,
     "metadata": {},
     "output_type": "execute_result"
    }
   ],
   "source": [
    "means = pd.pivot_table(df, index='Farm_Sizes', aggfunc=np.nanmean)\n",
    "sds =  pd.pivot_table(df, index='Farm_Sizes', aggfunc=np.nanstd)\n",
    "out = cohens_d(means, sds, how='within')\n",
    "out = out.loc[out['cohens_d_level'] != 'small']\n",
    "\n",
    "out['Farm_Sizes'] = out['Farm_Sizes'].str.replace(']', ')')\n",
    "out['variable'] = out['variable'].str.replace('_', ' and ')\n",
    "out.columns = ['Farm sizes', 'Categories commpared', 'Cohens d', 'Relative effect size']\n",
    "out.sort('Cohens d')"
   ]
  },
  {
   "cell_type": "markdown",
   "metadata": {},
   "source": [
    "<a name=\"Global Estimates\"></a>\n",
    "<h2>Global Estimates</h2><br>\n"
   ]
  },
  {
   "cell_type": "code",
   "execution_count": 486,
   "metadata": {
    "collapsed": true
   },
   "outputs": [],
   "source": [
    "data = df.copy()"
   ]
  },
  {
   "cell_type": "code",
   "execution_count": 487,
   "metadata": {
    "collapsed": false
   },
   "outputs": [
    {
     "data": {
      "text/html": [
       "<div>\n",
       "<table border=\"1\" class=\"dataframe\">\n",
       "  <thead>\n",
       "    <tr style=\"text-align: right;\">\n",
       "      <th></th>\n",
       "      <th>Farm_Sizes</th>\n",
       "      <th>Food</th>\n",
       "      <th>Feed</th>\n",
       "      <th>Seed</th>\n",
       "      <th>Waste</th>\n",
       "      <th>Processing</th>\n",
       "      <th>Other</th>\n",
       "    </tr>\n",
       "  </thead>\n",
       "  <tbody>\n",
       "    <tr>\n",
       "      <th>0</th>\n",
       "      <td>(1, 2]</td>\n",
       "      <td>NaN</td>\n",
       "      <td>NaN</td>\n",
       "      <td>NaN</td>\n",
       "      <td>NaN</td>\n",
       "      <td>NaN</td>\n",
       "      <td>NaN</td>\n",
       "    </tr>\n",
       "    <tr>\n",
       "      <th>1</th>\n",
       "      <td>(20, 50]</td>\n",
       "      <td>NaN</td>\n",
       "      <td>NaN</td>\n",
       "      <td>NaN</td>\n",
       "      <td>NaN</td>\n",
       "      <td>NaN</td>\n",
       "      <td>NaN</td>\n",
       "    </tr>\n",
       "    <tr>\n",
       "      <th>2</th>\n",
       "      <td>(20, 50]</td>\n",
       "      <td>0.0</td>\n",
       "      <td>0.0</td>\n",
       "      <td>0.0</td>\n",
       "      <td>0.0</td>\n",
       "      <td>0.0</td>\n",
       "      <td>0.0</td>\n",
       "    </tr>\n",
       "    <tr>\n",
       "      <th>3</th>\n",
       "      <td>(50, 100]</td>\n",
       "      <td>0.0</td>\n",
       "      <td>0.0</td>\n",
       "      <td>0.0</td>\n",
       "      <td>0.0</td>\n",
       "      <td>0.0</td>\n",
       "      <td>0.0</td>\n",
       "    </tr>\n",
       "    <tr>\n",
       "      <th>4</th>\n",
       "      <td>(20, 50]</td>\n",
       "      <td>0.0</td>\n",
       "      <td>0.0</td>\n",
       "      <td>0.0</td>\n",
       "      <td>0.0</td>\n",
       "      <td>0.0</td>\n",
       "      <td>0.0</td>\n",
       "    </tr>\n",
       "  </tbody>\n",
       "</table>\n",
       "</div>"
      ],
      "text/plain": [
       "  Farm_Sizes  Food  Feed  Seed  Waste  Processing  Other\n",
       "0     (1, 2]   NaN   NaN   NaN    NaN         NaN    NaN\n",
       "1   (20, 50]   NaN   NaN   NaN    NaN         NaN    NaN\n",
       "2   (20, 50]   0.0   0.0   0.0    0.0         0.0    0.0\n",
       "3  (50, 100]   0.0   0.0   0.0    0.0         0.0    0.0\n",
       "4   (20, 50]   0.0   0.0   0.0    0.0         0.0    0.0"
      ]
     },
     "execution_count": 487,
     "metadata": {},
     "output_type": "execute_result"
    }
   ],
   "source": [
    "data.head()"
   ]
  },
  {
   "cell_type": "markdown",
   "metadata": {},
   "source": [
    "<a name=\"LeftOff\"></a>\n",
    "<h3>Left Off</h3>\n",
    "\n",
    "To Do:\n",
    "- Need to calculate bootstraps and jackknife estimates"
   ]
  },
  {
   "cell_type": "code",
   "execution_count": null,
   "metadata": {
    "collapsed": true
   },
   "outputs": [],
   "source": []
  }
 ],
 "metadata": {
  "kernelspec": {
   "display_name": "virtualenvironment",
   "language": "python",
   "name": "virtualenvironment"
  },
  "language_info": {
   "codemirror_mode": {
    "name": "ipython",
    "version": 2
   },
   "file_extension": ".py",
   "mimetype": "text/x-python",
   "name": "python",
   "nbconvert_exporter": "python",
   "pygments_lexer": "ipython2",
   "version": "2.7.10"
  }
 },
 "nbformat": 4,
 "nbformat_minor": 2
}
