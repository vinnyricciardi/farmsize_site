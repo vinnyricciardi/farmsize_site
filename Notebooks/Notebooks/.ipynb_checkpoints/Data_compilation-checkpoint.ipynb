{
 "cells": [
  {
   "cell_type": "code",
   "execution_count": 40,
   "metadata": {
    "collapsed": true
   },
   "outputs": [],
   "source": [
    "import pandas as pd\n",
    "pd.set_option('display.max_columns', 500)"
   ]
  },
  {
   "cell_type": "code",
   "execution_count": 41,
   "metadata": {
    "collapsed": false
   },
   "outputs": [],
   "source": [
    "# Read in data\n",
    "PATH = '/Users/Vinny_Ricciardi/Documents/Data_Library_Big/Survey/Global/Farm_Size/Data/'\n",
    "df = pd.read_csv(PATH + 'CropbyFarmsize_2_20170711.csv', low_memory=False)"
   ]
  },
  {
   "cell_type": "code",
   "execution_count": 61,
   "metadata": {
    "collapsed": false
   },
   "outputs": [
    {
     "data": {
      "text/plain": [
       "array(['Cultivated area', 'Production', 'Harvested Area', 'Harvested area',\n",
       "       'Yield', 'Crop area', nan, 'Area', 'Number of farms', 'Planted area'], dtype=object)"
      ]
     },
     "execution_count": 61,
     "metadata": {},
     "output_type": "execute_result"
    }
   ],
   "source": [
    "df.subject.unique()"
   ]
  },
  {
   "cell_type": "markdown",
   "metadata": {},
   "source": [
    "Calculate Production\n",
    "Need to calculate production based on constant yields for data soures only containing 'Cultivated area', 'Harvested Area', Crop area', 'Harvested area', 'Area', and 'Planted area'\n",
    "\n",
    "Note: 'Cultivated area', Crop area', and 'Planted area' are grouped to 'Sown area'\n",
    "\n",
    "TODO: Check if Area in EU data is cropping, harvested, or planted area"
   ]
  },
  {
   "cell_type": "code",
   "execution_count": 69,
   "metadata": {
    "collapsed": false
   },
   "outputs": [
    {
     "ename": "SyntaxError",
     "evalue": "EOL while scanning string literal (<ipython-input-69-65a5662f0fcf>, line 1)",
     "output_type": "error",
     "traceback": [
      "\u001b[0;36m  File \u001b[0;32m\"<ipython-input-69-65a5662f0fcf>\"\u001b[0;36m, line \u001b[0;32m1\u001b[0m\n\u001b[0;31m    tmp   = df.query(\"subject == [\u001b[0m\n\u001b[0m                                 ^\u001b[0m\n\u001b[0;31mSyntaxError\u001b[0m\u001b[0;31m:\u001b[0m EOL while scanning string literal\n"
     ]
    }
   ],
   "source": [
    "tmp   = df.query(\"subject == [\n",
    "                 'Cultivated area', \n",
    "                 'Harvested Area', \n",
    "                 'Crop area', \n",
    "                 'Harvested area', \n",
    "                 'Area', \n",
    "                 'Planted area']\")\n",
    "names = tmp['NAME_0'].unique()\n",
    "num   = len(name)"
   ]
  },
  {
   "cell_type": "code",
   "execution_count": 67,
   "metadata": {
    "collapsed": false
   },
   "outputs": [
    {
     "name": "stdout",
     "output_type": "stream",
     "text": [
      "['Paraguay' 'Peru' 'Tanzania']\n"
     ]
    }
   ],
   "source": [
    "tmp = df.query(\"subject == 'Planted area'\")\n",
    "print(tmp.NAME_0.unique())"
   ]
  },
  {
   "cell_type": "code",
   "execution_count": null,
   "metadata": {
    "collapsed": true
   },
   "outputs": [],
   "source": []
  },
  {
   "cell_type": "code",
   "execution_count": 44,
   "metadata": {
    "collapsed": false
   },
   "outputs": [
    {
     "name": "stdout",
     "output_type": "stream",
     "text": [
      "23 out of 57 countries have production\n"
     ]
    }
   ],
   "source": [
    "tmp   = df.query(\"subject == 'Production'\")\n",
    "names = tmp['NAME_0'].unique()\n",
    "num   = len(name)\n",
    "print(\"{} out of {} countries have production\".format(\n",
    "      num, len(df['NAME_0'].unique())))"
   ]
  },
  {
   "cell_type": "code",
   "execution_count": 54,
   "metadata": {
    "collapsed": false
   },
   "outputs": [],
   "source": [
    "# Make data into long form for all sensitivity analyses needs\n",
    "df['prod_contains'] = df['NAME_0'].isin(names)\n",
    "df['prod_contains'] = df['prod_contains'].astype(int)"
   ]
  },
  {
   "cell_type": "code",
   "execution_count": 58,
   "metadata": {
    "collapsed": false
   },
   "outputs": [],
   "source": [
    "tmp = df.query(\"prod_contains == 0\")"
   ]
  },
  {
   "cell_type": "code",
   "execution_count": null,
   "metadata": {
    "collapsed": true
   },
   "outputs": [],
   "source": []
  }
 ],
 "metadata": {
  "kernelspec": {
   "display_name": "Python 2",
   "language": "python",
   "name": "python2"
  },
  "language_info": {
   "codemirror_mode": {
    "name": "ipython",
    "version": 2
   },
   "file_extension": ".py",
   "mimetype": "text/x-python",
   "name": "python",
   "nbconvert_exporter": "python",
   "pygments_lexer": "ipython2",
   "version": "2.7.13"
  }
 },
 "nbformat": 4,
 "nbformat_minor": 2
}
